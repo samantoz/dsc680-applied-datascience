{
 "cells": [
  {
   "cell_type": "code",
   "execution_count": 1,
   "metadata": {},
   "outputs": [],
   "source": [
    "import os"
   ]
  },
  {
   "cell_type": "code",
   "execution_count": 3,
   "metadata": {},
   "outputs": [],
   "source": [
    "rootdir = \"C:\\\\Users\\\\saman\\\\git_repos\\\\dsc680-applied-datascience\\\\Project-1\\\\enron_mail\"\n",
    "\n",
    "# for directory, subdirectory, filenames in os.walk(rootdir):\n",
    "    # print(directory, subdirectory, len(filenames))\n"
   ]
  },
  {
   "cell_type": "code",
   "execution_count": 4,
   "metadata": {},
   "outputs": [
    {
     "name": "stdout",
     "output_type": "stream",
     "text": [
      "\n",
      "To:  mmilken@knowledgeu.com\n",
      "\n",
      " From:  rosalee.fleming@enron.com\n",
      "\n",
      " Subject:  Re: testing\n",
      "\n",
      " \n",
      " Body:  Hi -\n",
      "\n",
      "We did receive the e-mail.\n",
      "\n",
      "Rosalee for Ken Lay\n",
      "\n",
      "\n",
      "\n",
      "\n",
      "\n",
      "\"Michael Milken\" <mmilken@knowledgeu.com> on 07/02/99 10:21:40 AM\n",
      "To: Kenneth Lay/Corp/Enron@Enron\n",
      "cc:  \n",
      "Subject: testing\n",
      "\n",
      "\n",
      "\n",
      "\n",
      "\n",
      "\n",
      "\n"
     ]
    }
   ],
   "source": [
    "from email.parser import Parser\n",
    "\n",
    "# print('root Dir:',rootdir)\n",
    "\n",
    "file_to_read =f\"{rootdir}\\\\maildir\\\\lay-k\\\\all_documents\\\\1_\"\n",
    "# print('file to read:',file_to_read)\n",
    "\n",
    "with open(file_to_read, \"r\") as f:\n",
    "    data = f.read()\n",
    "\n",
    "#print(data)\n",
    "\n",
    "email = Parser().parsestr(data)\n",
    "\n",
    "print(\"\\nTo: \", email['to'])\n",
    "print(\"\\n From: \", email['from'])\n",
    "\n",
    "print(\"\\n Subject: \", email['subject'])\n",
    "\n",
    "print(\"\\n \\n Body: \", email.get_payload())\n"
   ]
  }
 ],
 "metadata": {
  "interpreter": {
   "hash": "d2398cd6c937708e42b80c0dce25ca405d0c6827c5ebcbcac9817d73cd0bc02f"
  },
  "kernelspec": {
   "display_name": "Python 3.6.10 ('dsc650')",
   "language": "python",
   "name": "python3"
  },
  "language_info": {
   "codemirror_mode": {
    "name": "ipython",
    "version": 3
   },
   "file_extension": ".py",
   "mimetype": "text/x-python",
   "name": "python",
   "nbconvert_exporter": "python",
   "pygments_lexer": "ipython3",
   "version": "3.6.10"
  },
  "orig_nbformat": 4
 },
 "nbformat": 4,
 "nbformat_minor": 2
}
