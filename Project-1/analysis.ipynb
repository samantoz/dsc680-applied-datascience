{
 "cells": [
  {
   "cell_type": "code",
   "execution_count": 3,
   "metadata": {},
   "outputs": [],
   "source": [
    "import os\n",
    "from pathlib import Path"
   ]
  },
  {
   "cell_type": "code",
   "execution_count": 15,
   "metadata": {},
   "outputs": [
    {
     "name": "stdout",
     "output_type": "stream",
     "text": [
      "current_dir: C:\\Users\\saman\\git_repos\\dsc680-applied-datascience\\Project-1\n",
      "data_dir: Z:\\BU_DSC\\dsc680\\project1\\data\\maildir\n"
     ]
    },
    {
     "data": {
      "text/plain": [
       "['allen-p',\n",
       " 'arnold-j',\n",
       " 'arora-h',\n",
       " 'badeer-r',\n",
       " 'bailey-s',\n",
       " 'bass-e',\n",
       " 'baughman-d',\n",
       " 'beck-s',\n",
       " 'benson-r',\n",
       " 'blair-l',\n",
       " 'brawner-s',\n",
       " 'buy-r',\n",
       " 'campbell-l',\n",
       " 'carson-m',\n",
       " 'cash-m',\n",
       " 'causholli-m',\n",
       " 'corman-s',\n",
       " 'crandell-s',\n",
       " 'cuilla-m',\n",
       " 'dasovich-j',\n",
       " 'davis-d',\n",
       " 'dean-c',\n",
       " 'delainey-d',\n",
       " 'derrick-j',\n",
       " 'dickson-s',\n",
       " 'donoho-l',\n",
       " 'donohoe-t',\n",
       " 'dorland-c',\n",
       " 'ermis-f',\n",
       " 'farmer-d',\n",
       " 'fischer-m',\n",
       " 'forney-j',\n",
       " 'fossum-d',\n",
       " 'gang-l',\n",
       " 'gay-r',\n",
       " 'geaccone-t',\n",
       " 'germany-c',\n",
       " 'gilbertsmith-d',\n",
       " 'giron-d',\n",
       " 'griffith-j',\n",
       " 'grigsby-m',\n",
       " 'guzman-m',\n",
       " 'haedicke-m',\n",
       " 'hain-m',\n",
       " 'harris-s',\n",
       " 'hayslett-r',\n",
       " 'heard-m',\n",
       " 'hendrickson-s',\n",
       " 'hernandez-j',\n",
       " 'hodge-j',\n",
       " 'holst-k',\n",
       " 'horton-s',\n",
       " 'hyatt-k',\n",
       " 'hyvl-d',\n",
       " 'jones-t',\n",
       " 'kaminski-v',\n",
       " 'kean-s',\n",
       " 'keavey-p',\n",
       " 'keiser-k',\n",
       " 'king-j',\n",
       " 'kitchen-l',\n",
       " 'kuykendall-t',\n",
       " 'lavorato-j',\n",
       " 'lay-k',\n",
       " 'lenhart-m',\n",
       " 'lewis-a',\n",
       " 'linder-e',\n",
       " 'lokay-m',\n",
       " 'lokey-t',\n",
       " 'love-p',\n",
       " 'lucci-p',\n",
       " 'maggi-m',\n",
       " 'mann-k',\n",
       " 'martin-t',\n",
       " 'may-l',\n",
       " 'mccarty-d',\n",
       " 'mcconnell-m',\n",
       " 'mckay-b',\n",
       " 'mckay-j',\n",
       " 'mclaughlin-e',\n",
       " 'merriss-s',\n",
       " 'meyers-a',\n",
       " 'mims-thurston-p',\n",
       " 'motley-m',\n",
       " 'neal-s',\n",
       " 'nemec-g',\n",
       " 'panus-s',\n",
       " 'parks-j',\n",
       " 'pereira-s',\n",
       " 'perlingiere-d',\n",
       " 'phanis-s',\n",
       " 'pimenov-v',\n",
       " 'platter-p',\n",
       " 'presto-k',\n",
       " 'quenet-j',\n",
       " 'quigley-d',\n",
       " 'rapp-b',\n",
       " 'reitmeyer-j',\n",
       " 'richey-c',\n",
       " 'ring-a',\n",
       " 'ring-r',\n",
       " 'rodrique-r',\n",
       " 'rogers-b',\n",
       " 'ruscitti-k',\n",
       " 'sager-e',\n",
       " 'saibi-e',\n",
       " 'salisbury-h',\n",
       " 'sanchez-m',\n",
       " 'sanders-r',\n",
       " 'scholtes-d',\n",
       " 'schoolcraft-d',\n",
       " 'schwieger-j',\n",
       " 'scott-s',\n",
       " 'semperger-c',\n",
       " 'shackleton-s',\n",
       " 'shankman-j',\n",
       " 'shapiro-r',\n",
       " 'shively-h',\n",
       " 'skilling-j',\n",
       " 'slinger-r',\n",
       " 'smith-m',\n",
       " 'solberg-g',\n",
       " 'south-s',\n",
       " 'staab-t',\n",
       " 'stclair-c',\n",
       " 'steffes-j',\n",
       " 'stepenovitch-j',\n",
       " 'stokley-c',\n",
       " 'storey-g',\n",
       " 'sturm-f',\n",
       " 'swerzbin-m',\n",
       " 'symes-k',\n",
       " 'taylor-m',\n",
       " 'tholt-j',\n",
       " 'thomas-p',\n",
       " 'townsend-j',\n",
       " 'tycholiz-b',\n",
       " 'ward-k',\n",
       " 'watson-k',\n",
       " 'weldon-c',\n",
       " 'whalley-g',\n",
       " 'whalley-l',\n",
       " 'white-s',\n",
       " 'whitt-m',\n",
       " 'williams-j',\n",
       " 'williams-w3',\n",
       " 'wolfe-j',\n",
       " 'ybarbo-p',\n",
       " 'zipper-a',\n",
       " 'zufferli-j']"
      ]
     },
     "execution_count": 15,
     "metadata": {},
     "output_type": "execute_result"
    }
   ],
   "source": [
    "current_dir = Path(os.getcwd()).absolute()\n",
    "print('current_dir:', current_dir)\n",
    "enron_data_dir = 'Z:\\BU_DSC\\dsc680\\project1\\data\\maildir'\n",
    "print('data_dir:',remote_dir)\n",
    "enron_data_subdir = [f.name for f in os.scandir(enron_data_dir) if f.is_dir()]\n",
    "enron_data_subdir"
   ]
  },
  {
   "cell_type": "code",
   "execution_count": 11,
   "metadata": {},
   "outputs": [],
   "source": [
    "from pyspark.sql import SparkSession"
   ]
  },
  {
   "cell_type": "code",
   "execution_count": 12,
   "metadata": {},
   "outputs": [],
   "source": [
    "spark = SparkSession\\\n",
    "    .builder\\\n",
    "    .appName(\"EnronEmailAnalysis\")\\\n",
    "    .getOrCreate()"
   ]
  },
  {
   "cell_type": "code",
   "execution_count": 23,
   "metadata": {},
   "outputs": [],
   "source": [
    "def sub_str(curr_dir, data_dir):\n",
    "    \"\"\" \n",
    "    This function is to cut the relative\n",
    "    path from the current path\n",
    "    \"\"\"\n",
    "    curr_dir = f'{curr_dir}'\n",
    "    data_dir = f'{data_dir}'\n",
    "    # print(curr_dir)\n",
    "    # print(len(curr_dir))\n",
    "    start = 0\n",
    "    end = len(data_dir)\n",
    "    print(data_dir)\n",
    "    print(len(data_dir))\n",
    "    rel_path = data_dir[end+1:]\n",
    "    \n",
    "    return rel_path"
   ]
  },
  {
   "cell_type": "code",
   "execution_count": 24,
   "metadata": {},
   "outputs": [
    {
     "name": "stdout",
     "output_type": "stream",
     "text": [
      "Z:\\BU_DSC\\dsc680\\project1\\data\\maildir\n",
      "38\n"
     ]
    },
    {
     "data": {
      "text/plain": [
       "''"
      ]
     },
     "execution_count": 24,
     "metadata": {},
     "output_type": "execute_result"
    }
   ],
   "source": [
    "sub_str(current_dir,enron_data_dir)"
   ]
  },
  {
   "cell_type": "code",
   "execution_count": null,
   "metadata": {},
   "outputs": [],
   "source": [
    "def make_spark_df():\n",
    "    records = []\n",
    "    message_path = []\n",
    "    root_folder = []\n",
    "    message_id = []\n",
    "    for root, dirs, files in os.walk(enron_data_dir):\n",
    "        for file_path in files:\n",
    "            ## Current path is now the file path to the current email.  \n",
    "            ## Use this path to read the following information\n",
    "            ## original_msg\n",
    "            ## username (Hint: It is the root folder)\n",
    "            ## id (The relative path of the email message)\n",
    "            current_path = Path(root).joinpath(file_path)\n",
    "            id = sub_str(enron_data_dir,current_path)\n",
    "            uname = f'{id}'[:f'{id}'.find('\\\\')]\n",
    "            org_msg = read_raw_email(current_path)\n",
    "            message_path.append(org_msg)\n",
    "            root_folder.append(uname)\n",
    "            message_id.append(id)\n",
    "    \n",
    "    ## TODO: Complete the code to code to create the Spark dataframe\n",
    "    records = list(zip(message_id,root_folder,message_path))\n",
    "    columns = [\"id\",\"username\",\"original_msg\"]\n",
    "    return spark.createDataFrame(records).toDF(*columns)"
   ]
  }
 ],
 "metadata": {
  "kernelspec": {
   "display_name": "Python 3",
   "language": "python",
   "name": "python3"
  },
  "language_info": {
   "codemirror_mode": {
    "name": "ipython",
    "version": 3
   },
   "file_extension": ".py",
   "mimetype": "text/x-python",
   "name": "python",
   "nbconvert_exporter": "python",
   "pygments_lexer": "ipython3",
   "version": "3.6.10"
  }
 },
 "nbformat": 4,
 "nbformat_minor": 4
}
