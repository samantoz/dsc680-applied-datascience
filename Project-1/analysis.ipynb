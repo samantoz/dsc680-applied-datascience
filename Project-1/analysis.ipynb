{
 "cells": [
  {
   "cell_type": "code",
   "execution_count": 1,
   "metadata": {},
   "outputs": [],
   "source": [
    "import os\n",
    "from pathlib import Path"
   ]
  },
  {
   "cell_type": "code",
   "execution_count": 2,
   "metadata": {},
   "outputs": [
    {
     "name": "stdout",
     "output_type": "stream",
     "text": [
      "current_dir: c:\\Users\\saman\\git_repos\\dsc680-applied-datascience\\Project-1\n",
      "data_dir: Z:\\BU_DSC\\dsc680\\project1\\data\n"
     ]
    }
   ],
   "source": [
    "current_dir = Path(os.getcwd()).absolute()\n",
    "print('current_dir:', current_dir)\n",
    "enron_data_dir = 'Z:\\BU_DSC\\dsc680\\project1\\data'\n",
    "print('data_dir:',enron_data_dir)"
   ]
  },
  {
   "cell_type": "code",
   "execution_count": 3,
   "metadata": {},
   "outputs": [],
   "source": [
    "from pyspark.sql import SparkSession"
   ]
  },
  {
   "cell_type": "code",
   "execution_count": 4,
   "metadata": {},
   "outputs": [],
   "source": [
    "spark = SparkSession\\\n",
    "    .builder\\\n",
    "    .appName(\"EnronEmailAnalysis\")\\\n",
    "    .getOrCreate()"
   ]
  },
  {
   "cell_type": "code",
   "execution_count": 19,
   "metadata": {},
   "outputs": [],
   "source": [
    "df = spark.read.csv(\n",
    "\tpath = 'temp\\emails_0_row_100000.csv',\n",
    "\tsep=\",\",\n",
    "\theader=True,\n",
    "\tquote='\"',\n",
    "\tschema=\"file STRING, message STRING\"\n",
    ")\n"
   ]
  },
  {
   "cell_type": "code",
   "execution_count": 20,
   "metadata": {},
   "outputs": [
    {
     "name": "stdout",
     "output_type": "stream",
     "text": [
      "+-----------------------------+---------------------------------+\n",
      "|file                         |message                          |\n",
      "+-----------------------------+---------------------------------+\n",
      "|0                            |allen-p/_sent_mail/1.            |\n",
      "|Date: Mon                    | 14 May 2001 16:39:00 -0700 (PDT)|\n",
      "|From: phillip.allen@enron.com|null                             |\n",
      "|To: tim.belden@enron.com     |null                             |\n",
      "|Subject:                     |null                             |\n",
      "+-----------------------------+---------------------------------+\n",
      "only showing top 5 rows\n",
      "\n",
      "root\n",
      " |-- file: string (nullable = true)\n",
      " |-- message: string (nullable = true)\n",
      "\n"
     ]
    }
   ],
   "source": [
    "df.show(5, truncate=False)\n",
    "df.printSchema()"
   ]
  },
  {
   "cell_type": "code",
   "execution_count": null,
   "metadata": {},
   "outputs": [],
   "source": []
  }
 ],
 "metadata": {
  "kernelspec": {
   "display_name": "Python 3",
   "language": "python",
   "name": "python3"
  },
  "language_info": {
   "codemirror_mode": {
    "name": "ipython",
    "version": 3
   },
   "file_extension": ".py",
   "mimetype": "text/x-python",
   "name": "python",
   "nbconvert_exporter": "python",
   "pygments_lexer": "ipython3",
   "version": "3.6.10"
  }
 },
 "nbformat": 4,
 "nbformat_minor": 4
}
