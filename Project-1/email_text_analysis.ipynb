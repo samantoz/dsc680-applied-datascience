{
 "cells": [
  {
   "cell_type": "markdown",
   "metadata": {},
   "source": [
    "### Context Aware Text Analysis from Emails"
   ]
  },
  {
   "cell_type": "code",
   "execution_count": 1,
   "metadata": {},
   "outputs": [],
   "source": [
    "# Load libraries\n",
    "import email\n",
    "from email.policy import default\n",
    "from email.parser import Parser\n",
    "from datetime import timezone\n",
    "from dateutil.parser import parse\n",
    "from collections import namedtuple \n",
    "\n",
    "from pyspark.sql import SparkSession\n",
    "from pyspark.sql.types import *\n",
    "import pyspark.sql.functions as f\n",
    "from pyspark.sql.functions import udf\n",
    "import altair as alt\n"
   ]
  },
  {
   "cell_type": "code",
   "execution_count": 2,
   "metadata": {},
   "outputs": [],
   "source": [
    "# Create spark session\n",
    "spark = SparkSession\\\n",
    "    .builder\\\n",
    "    .appName(\"EnronEmailAnalysis\")\\\n",
    "    .getOrCreate()"
   ]
  },
  {
   "cell_type": "code",
   "execution_count": 4,
   "metadata": {},
   "outputs": [],
   "source": [
    "# Defining the initial schema to read the source file\n",
    "fileDir = StructField(\"file\", StringType(), True)\n",
    "emailMsg = StructField(\"message\", StringType(), True)\n",
    "columnList = [fileDir, emailMsg]\n",
    "emailDfSchema = StructType(columnList)\n",
    "# emailDfSchema"
   ]
  },
  {
   "cell_type": "code",
   "execution_count": 5,
   "metadata": {},
   "outputs": [],
   "source": [
    "# Generate the first spak dataframe\n",
    "emailDf = spark.read.csv(\n",
    "\tpath='emails.csv',\n",
    "\theader=True,\n",
    "\tmultiLine=True,\n",
    "\tquote='\"',\n",
    "\tescape='\"',\n",
    "\tschema=emailDfSchema\n",
    ")"
   ]
  },
  {
   "cell_type": "code",
   "execution_count": 6,
   "metadata": {},
   "outputs": [
    {
     "name": "stdout",
     "output_type": "stream",
     "text": [
      "Total row count:  517401\n",
      "+--------------------+--------------------+\n",
      "|                file|             message|\n",
      "+--------------------+--------------------+\n",
      "|allen-p/_sent_mai...|Message-ID: <1878...|\n",
      "|allen-p/_sent_mai...|Message-ID: <1546...|\n",
      "|allen-p/_sent_mai...|Message-ID: <2421...|\n",
      "|allen-p/_sent_mai...|Message-ID: <1350...|\n",
      "|allen-p/_sent_mai...|Message-ID: <3092...|\n",
      "+--------------------+--------------------+\n",
      "only showing top 5 rows\n",
      "\n",
      "root\n",
      " |-- file: string (nullable = true)\n",
      " |-- message: string (nullable = true)\n",
      "\n"
     ]
    }
   ],
   "source": [
    "# Showing the initial corpus count and the dataframe along with the schema\n",
    "print ('Total row count: ',emailDf.count())\n",
    "emailDf.show(5, truncate=True)\n",
    "emailDf.printSchema()\n"
   ]
  },
  {
   "cell_type": "code",
   "execution_count": 7,
   "metadata": {},
   "outputs": [
    {
     "name": "stdout",
     "output_type": "stream",
     "text": [
      "+--------------------+--------------------+--------------------+\n",
      "|                file|            filelist|             message|\n",
      "+--------------------+--------------------+--------------------+\n",
      "|allen-p/_sent_mai...|[allen-p, _sent_m...|Message-ID: <1878...|\n",
      "|allen-p/_sent_mai...|[allen-p, _sent_m...|Message-ID: <1546...|\n",
      "|allen-p/_sent_mai...|[allen-p, _sent_m...|Message-ID: <2421...|\n",
      "|allen-p/_sent_mai...|[allen-p, _sent_m...|Message-ID: <1350...|\n",
      "|allen-p/_sent_mai...|[allen-p, _sent_m...|Message-ID: <3092...|\n",
      "|allen-p/_sent_mai...|[allen-p, _sent_m...|Message-ID: <3096...|\n",
      "|allen-p/_sent_mai...|[allen-p, _sent_m...|Message-ID: <1625...|\n",
      "|allen-p/_sent_mai...|[allen-p, _sent_m...|Message-ID: <1718...|\n",
      "|allen-p/_sent_mai...|[allen-p, _sent_m...|Message-ID: <2064...|\n",
      "|allen-p/_sent_mai...|[allen-p, _sent_m...|Message-ID: <3079...|\n",
      "|allen-p/_sent_mai...|[allen-p, _sent_m...|Message-ID: <3307...|\n",
      "|allen-p/_sent_mai...|[allen-p, _sent_m...|Message-ID: <2545...|\n",
      "|allen-p/_sent_mai...|[allen-p, _sent_m...|Message-ID: <1311...|\n",
      "|allen-p/_sent_mai...|[allen-p, _sent_m...|Message-ID: <2707...|\n",
      "|allen-p/_sent_mai...|[allen-p, _sent_m...|Message-ID: <2465...|\n",
      "|allen-p/_sent_mai...|[allen-p, _sent_m...|Message-ID: <1115...|\n",
      "|allen-p/_sent_mai...|[allen-p, _sent_m...|Message-ID: <1977...|\n",
      "|allen-p/_sent_mai...|[allen-p, _sent_m...|Message-ID: <7391...|\n",
      "|allen-p/_sent_mai...|[allen-p, _sent_m...|Message-ID: <1275...|\n",
      "|allen-p/_sent_mai...|[allen-p, _sent_m...|Message-ID: <2917...|\n",
      "+--------------------+--------------------+--------------------+\n",
      "only showing top 20 rows\n",
      "\n"
     ]
    }
   ],
   "source": [
    "# Intermediate Step 1\n",
    "# Splitting the file column\n",
    "emailDf.select(\n",
    "\t\"file\",\n",
    "\tf.split(\"file\",\"/\").alias(\"filelist\"),\n",
    "\t# f.posexplode(f.split(\"file\",\"/\")).alias(\"pos\",\"val\"),\n",
    "\t\"message\"\n",
    ")\\\n",
    ".show()"
   ]
  },
  {
   "cell_type": "code",
   "execution_count": 8,
   "metadata": {},
   "outputs": [
    {
     "name": "stdout",
     "output_type": "stream",
     "text": [
      "+--------------------+---------+----------+--------------------+\n",
      "|                file|    users|       val|             message|\n",
      "+--------------------+---------+----------+--------------------+\n",
      "|allen-p/_sent_mai...|username0|   allen-p|Message-ID: <1878...|\n",
      "|allen-p/_sent_mai...|username1|_sent_mail|Message-ID: <1878...|\n",
      "|allen-p/_sent_mai...|username2|        1.|Message-ID: <1878...|\n",
      "|allen-p/_sent_mai...|username0|   allen-p|Message-ID: <1546...|\n",
      "|allen-p/_sent_mai...|username1|_sent_mail|Message-ID: <1546...|\n",
      "|allen-p/_sent_mai...|username2|       10.|Message-ID: <1546...|\n",
      "|allen-p/_sent_mai...|username0|   allen-p|Message-ID: <2421...|\n",
      "|allen-p/_sent_mai...|username1|_sent_mail|Message-ID: <2421...|\n",
      "|allen-p/_sent_mai...|username2|      100.|Message-ID: <2421...|\n",
      "|allen-p/_sent_mai...|username0|   allen-p|Message-ID: <1350...|\n",
      "|allen-p/_sent_mai...|username1|_sent_mail|Message-ID: <1350...|\n",
      "|allen-p/_sent_mai...|username2|     1000.|Message-ID: <1350...|\n",
      "|allen-p/_sent_mai...|username0|   allen-p|Message-ID: <3092...|\n",
      "|allen-p/_sent_mai...|username1|_sent_mail|Message-ID: <3092...|\n",
      "|allen-p/_sent_mai...|username2|     1001.|Message-ID: <3092...|\n",
      "|allen-p/_sent_mai...|username0|   allen-p|Message-ID: <3096...|\n",
      "|allen-p/_sent_mai...|username1|_sent_mail|Message-ID: <3096...|\n",
      "|allen-p/_sent_mai...|username2|     1002.|Message-ID: <3096...|\n",
      "|allen-p/_sent_mai...|username0|   allen-p|Message-ID: <1625...|\n",
      "|allen-p/_sent_mai...|username1|_sent_mail|Message-ID: <1625...|\n",
      "+--------------------+---------+----------+--------------------+\n",
      "only showing top 20 rows\n",
      "\n"
     ]
    }
   ],
   "source": [
    "# Intermediate Step 2\n",
    "# Adding the user name column\n",
    "\n",
    "emailDf.select(\n",
    "    \"file\",\n",
    "   \tf.split(\"file\", \"/\").alias(\"filelist\"),\n",
    "\tf.posexplode(f.split(\"file\",\"/\")).alias(\"pos\",\"val\"),\n",
    "   \t\"message\"\n",
    ")\\\n",
    ".drop(\"val\")\\\n",
    ".select(\n",
    "\t\"file\",\n",
    "\tf.concat(f.lit(\"username\"),f.col(\"pos\").cast(\"string\")).alias(\"users\"),\n",
    "\tf.expr(\"filelist[pos]\").alias(\"val\"),\n",
    "\t\"message\"\n",
    ")\\\n",
    ".show()"
   ]
  },
  {
   "cell_type": "code",
   "execution_count": 9,
   "metadata": {},
   "outputs": [
    {
     "name": "stdout",
     "output_type": "stream",
     "text": [
      "+---------+----------+--------------------+\n",
      "|    users|       val|             message|\n",
      "+---------+----------+--------------------+\n",
      "|username0|   allen-p|Message-ID: <1878...|\n",
      "|username1|_sent_mail|Message-ID: <1878...|\n",
      "|username2|        1.|Message-ID: <1878...|\n",
      "|username0|   allen-p|Message-ID: <1546...|\n",
      "|username1|_sent_mail|Message-ID: <1546...|\n",
      "|username2|       10.|Message-ID: <1546...|\n",
      "|username0|   allen-p|Message-ID: <2421...|\n",
      "|username1|_sent_mail|Message-ID: <2421...|\n",
      "|username2|      100.|Message-ID: <2421...|\n",
      "|username0|   allen-p|Message-ID: <1350...|\n",
      "|username1|_sent_mail|Message-ID: <1350...|\n",
      "|username2|     1000.|Message-ID: <1350...|\n",
      "|username0|   allen-p|Message-ID: <3092...|\n",
      "|username1|_sent_mail|Message-ID: <3092...|\n",
      "|username2|     1001.|Message-ID: <3092...|\n",
      "|username0|   allen-p|Message-ID: <3096...|\n",
      "|username1|_sent_mail|Message-ID: <3096...|\n",
      "|username2|     1002.|Message-ID: <3096...|\n",
      "|username0|   allen-p|Message-ID: <1625...|\n",
      "|username1|_sent_mail|Message-ID: <1625...|\n",
      "+---------+----------+--------------------+\n",
      "only showing top 20 rows\n",
      "\n"
     ]
    }
   ],
   "source": [
    "# Intermediate Step 3\n",
    "# Grouping by user name column\n",
    "\n",
    "df1 = emailDf.select(\n",
    "    \"file\",\n",
    "   \tf.split(\"file\", \"/\").alias(\"filelist\"),\n",
    "   \tf.posexplode(f.split(\"file\", \"/\")).alias(\"pos\", \"val\"),\n",
    "   \t\"message\"\n",
    ")\\\n",
    "    .drop(\"val\")\\\n",
    "    .select(\n",
    "\t\"file\",\n",
    "\tf.concat(f.lit(\"username\"), f.col(\"pos\").cast(\"string\")).alias(\"users\"),\n",
    "\tf.expr(\"filelist[pos]\").alias(\"val\"),\n",
    "\t\"message\"\n",
    ")\\\n",
    ".select(\n",
    "\t\"users\",\n",
    "\t\"val\",\n",
    "\t\"message\"\n",
    ")\n",
    "\n",
    "df1.show()\n"
   ]
  },
  {
   "cell_type": "code",
   "execution_count": 10,
   "metadata": {},
   "outputs": [],
   "source": [
    "# Creating the temporary view with the DF for querying the data\n",
    "df1.createOrReplaceTempView(\"tmpView_emailDf\")"
   ]
  },
  {
   "cell_type": "code",
   "execution_count": 53,
   "metadata": {},
   "outputs": [
    {
     "name": "stdout",
     "output_type": "stream",
     "text": [
      "+------------+--------+\n",
      "|         val|messages|\n",
      "+------------+--------+\n",
      "|  kaminski-v|   28465|\n",
      "|  dasovich-j|   28234|\n",
      "|      kean-s|   25351|\n",
      "|      mann-k|   23381|\n",
      "|     jones-t|   19950|\n",
      "|shackleton-s|   18687|\n",
      "|    taylor-m|   13875|\n",
      "|    farmer-d|   13032|\n",
      "|   germany-c|   12436|\n",
      "|      beck-s|   11830|\n",
      "|     symes-k|   10827|\n",
      "|     nemec-g|   10655|\n",
      "|     scott-s|    8022|\n",
      "|    rogers-b|    8009|\n",
      "|      bass-e|    7823|\n",
      "|   sanders-r|    7329|\n",
      "|  campbell-l|    6490|\n",
      "|   shapiro-r|    6071|\n",
      "|    guzman-m|    6054|\n",
      "|       lay-k|    5937|\n",
      "+------------+--------+\n",
      "only showing top 20 rows\n",
      "\n"
     ]
    }
   ],
   "source": [
    "spark.sql(\"select val,count(message) as messages from tmpView_emailDf\\\n",
    "\t\t\twhere users='username0'\\\n",
    "\t\t\tgroup by val\\\n",
    "\t\t\torder by messages desc\").show()\n"
   ]
  },
  {
   "cell_type": "code",
   "execution_count": 67,
   "metadata": {},
   "outputs": [],
   "source": [
    "# loading to a dataframe in order to plot a graph\n",
    "df2 = spark.sql(\"select val,count(message) as messages from tmpView_emailDf\\\n",
    "\t\t\twhere users='username0'\\\n",
    "\t\t\tgroup by val\\\n",
    "\t\t\torder by messages desc\").toPandas()"
   ]
  },
  {
   "cell_type": "code",
   "execution_count": 68,
   "metadata": {},
   "outputs": [
    {
     "data": {
      "text/html": [
       "<div>\n",
       "<style scoped>\n",
       "    .dataframe tbody tr th:only-of-type {\n",
       "        vertical-align: middle;\n",
       "    }\n",
       "\n",
       "    .dataframe tbody tr th {\n",
       "        vertical-align: top;\n",
       "    }\n",
       "\n",
       "    .dataframe thead th {\n",
       "        text-align: right;\n",
       "    }\n",
       "</style>\n",
       "<table border=\"1\" class=\"dataframe\">\n",
       "  <thead>\n",
       "    <tr style=\"text-align: right;\">\n",
       "      <th></th>\n",
       "      <th>val</th>\n",
       "      <th>messages</th>\n",
       "    </tr>\n",
       "  </thead>\n",
       "  <tbody>\n",
       "    <tr>\n",
       "      <th>0</th>\n",
       "      <td>kaminski-v</td>\n",
       "      <td>28465</td>\n",
       "    </tr>\n",
       "    <tr>\n",
       "      <th>1</th>\n",
       "      <td>dasovich-j</td>\n",
       "      <td>28234</td>\n",
       "    </tr>\n",
       "    <tr>\n",
       "      <th>2</th>\n",
       "      <td>kean-s</td>\n",
       "      <td>25351</td>\n",
       "    </tr>\n",
       "    <tr>\n",
       "      <th>3</th>\n",
       "      <td>mann-k</td>\n",
       "      <td>23381</td>\n",
       "    </tr>\n",
       "    <tr>\n",
       "      <th>4</th>\n",
       "      <td>jones-t</td>\n",
       "      <td>19950</td>\n",
       "    </tr>\n",
       "    <tr>\n",
       "      <th>5</th>\n",
       "      <td>shackleton-s</td>\n",
       "      <td>18687</td>\n",
       "    </tr>\n",
       "    <tr>\n",
       "      <th>6</th>\n",
       "      <td>taylor-m</td>\n",
       "      <td>13875</td>\n",
       "    </tr>\n",
       "    <tr>\n",
       "      <th>7</th>\n",
       "      <td>farmer-d</td>\n",
       "      <td>13032</td>\n",
       "    </tr>\n",
       "    <tr>\n",
       "      <th>8</th>\n",
       "      <td>germany-c</td>\n",
       "      <td>12436</td>\n",
       "    </tr>\n",
       "    <tr>\n",
       "      <th>9</th>\n",
       "      <td>beck-s</td>\n",
       "      <td>11830</td>\n",
       "    </tr>\n",
       "    <tr>\n",
       "      <th>10</th>\n",
       "      <td>symes-k</td>\n",
       "      <td>10827</td>\n",
       "    </tr>\n",
       "    <tr>\n",
       "      <th>11</th>\n",
       "      <td>nemec-g</td>\n",
       "      <td>10655</td>\n",
       "    </tr>\n",
       "    <tr>\n",
       "      <th>12</th>\n",
       "      <td>scott-s</td>\n",
       "      <td>8022</td>\n",
       "    </tr>\n",
       "    <tr>\n",
       "      <th>13</th>\n",
       "      <td>rogers-b</td>\n",
       "      <td>8009</td>\n",
       "    </tr>\n",
       "    <tr>\n",
       "      <th>14</th>\n",
       "      <td>bass-e</td>\n",
       "      <td>7823</td>\n",
       "    </tr>\n",
       "    <tr>\n",
       "      <th>15</th>\n",
       "      <td>sanders-r</td>\n",
       "      <td>7329</td>\n",
       "    </tr>\n",
       "    <tr>\n",
       "      <th>16</th>\n",
       "      <td>campbell-l</td>\n",
       "      <td>6490</td>\n",
       "    </tr>\n",
       "    <tr>\n",
       "      <th>17</th>\n",
       "      <td>shapiro-r</td>\n",
       "      <td>6071</td>\n",
       "    </tr>\n",
       "    <tr>\n",
       "      <th>18</th>\n",
       "      <td>guzman-m</td>\n",
       "      <td>6054</td>\n",
       "    </tr>\n",
       "    <tr>\n",
       "      <th>19</th>\n",
       "      <td>lay-k</td>\n",
       "      <td>5937</td>\n",
       "    </tr>\n",
       "  </tbody>\n",
       "</table>\n",
       "</div>"
      ],
      "text/plain": [
       "             val  messages\n",
       "0     kaminski-v     28465\n",
       "1     dasovich-j     28234\n",
       "2         kean-s     25351\n",
       "3         mann-k     23381\n",
       "4        jones-t     19950\n",
       "5   shackleton-s     18687\n",
       "6       taylor-m     13875\n",
       "7       farmer-d     13032\n",
       "8      germany-c     12436\n",
       "9         beck-s     11830\n",
       "10       symes-k     10827\n",
       "11       nemec-g     10655\n",
       "12       scott-s      8022\n",
       "13      rogers-b      8009\n",
       "14        bass-e      7823\n",
       "15     sanders-r      7329\n",
       "16    campbell-l      6490\n",
       "17     shapiro-r      6071\n",
       "18      guzman-m      6054\n",
       "19         lay-k      5937"
      ]
     },
     "execution_count": 68,
     "metadata": {},
     "output_type": "execute_result"
    }
   ],
   "source": [
    "top20df2 = df2.nlargest(20,['messages'])\n",
    "top20df2"
   ]
  },
  {
   "cell_type": "code",
   "execution_count": 81,
   "metadata": {},
   "outputs": [
    {
     "data": {
      "text/html": [
       "\n",
       "<div id=\"altair-viz-2f94c695f1674178935a621959570c3b\"></div>\n",
       "<script type=\"text/javascript\">\n",
       "  var VEGA_DEBUG = (typeof VEGA_DEBUG == \"undefined\") ? {} : VEGA_DEBUG;\n",
       "  (function(spec, embedOpt){\n",
       "    let outputDiv = document.currentScript.previousElementSibling;\n",
       "    if (outputDiv.id !== \"altair-viz-2f94c695f1674178935a621959570c3b\") {\n",
       "      outputDiv = document.getElementById(\"altair-viz-2f94c695f1674178935a621959570c3b\");\n",
       "    }\n",
       "    const paths = {\n",
       "      \"vega\": \"https://cdn.jsdelivr.net/npm//vega@5?noext\",\n",
       "      \"vega-lib\": \"https://cdn.jsdelivr.net/npm//vega-lib?noext\",\n",
       "      \"vega-lite\": \"https://cdn.jsdelivr.net/npm//vega-lite@4.17.0?noext\",\n",
       "      \"vega-embed\": \"https://cdn.jsdelivr.net/npm//vega-embed@6?noext\",\n",
       "    };\n",
       "\n",
       "    function maybeLoadScript(lib, version) {\n",
       "      var key = `${lib.replace(\"-\", \"\")}_version`;\n",
       "      return (VEGA_DEBUG[key] == version) ?\n",
       "        Promise.resolve(paths[lib]) :\n",
       "        new Promise(function(resolve, reject) {\n",
       "          var s = document.createElement('script');\n",
       "          document.getElementsByTagName(\"head\")[0].appendChild(s);\n",
       "          s.async = true;\n",
       "          s.onload = () => {\n",
       "            VEGA_DEBUG[key] = version;\n",
       "            return resolve(paths[lib]);\n",
       "          };\n",
       "          s.onerror = () => reject(`Error loading script: ${paths[lib]}`);\n",
       "          s.src = paths[lib];\n",
       "        });\n",
       "    }\n",
       "\n",
       "    function showError(err) {\n",
       "      outputDiv.innerHTML = `<div class=\"error\" style=\"color:red;\">${err}</div>`;\n",
       "      throw err;\n",
       "    }\n",
       "\n",
       "    function displayChart(vegaEmbed) {\n",
       "      vegaEmbed(outputDiv, spec, embedOpt)\n",
       "        .catch(err => showError(`Javascript Error: ${err.message}<br>This usually means there's a typo in your chart specification. See the javascript console for the full traceback.`));\n",
       "    }\n",
       "\n",
       "    if(typeof define === \"function\" && define.amd) {\n",
       "      requirejs.config({paths});\n",
       "      require([\"vega-embed\"], displayChart, err => showError(`Error loading script: ${err.message}`));\n",
       "    } else {\n",
       "      maybeLoadScript(\"vega\", \"5\")\n",
       "        .then(() => maybeLoadScript(\"vega-lite\", \"4.17.0\"))\n",
       "        .then(() => maybeLoadScript(\"vega-embed\", \"6\"))\n",
       "        .catch(showError)\n",
       "        .then(() => displayChart(vegaEmbed));\n",
       "    }\n",
       "  })({\"config\": {\"view\": {\"continuousWidth\": 400, \"continuousHeight\": 300}}, \"layer\": [{\"mark\": \"bar\", \"encoding\": {\"x\": {\"field\": \"val\", \"title\": \"Users\", \"type\": \"nominal\"}, \"y\": {\"field\": \"messages\", \"title\": \"# of messages\", \"type\": \"quantitative\"}}}, {\"mark\": {\"type\": \"text\", \"align\": \"center\", \"baseline\": \"middle\", \"dx\": 1}, \"encoding\": {\"text\": {\"field\": \"messages\", \"type\": \"quantitative\"}, \"x\": {\"field\": \"val\", \"title\": \"Users\", \"type\": \"nominal\"}, \"y\": {\"field\": \"messages\", \"title\": \"# of messages\", \"type\": \"quantitative\"}}}], \"data\": {\"name\": \"data-8188ebbe03bc55385b6d2db6f3ba5b2f\"}, \"width\": 800, \"$schema\": \"https://vega.github.io/schema/vega-lite/v4.17.0.json\", \"datasets\": {\"data-8188ebbe03bc55385b6d2db6f3ba5b2f\": [{\"val\": \"kaminski-v\", \"messages\": 28465}, {\"val\": \"dasovich-j\", \"messages\": 28234}, {\"val\": \"kean-s\", \"messages\": 25351}, {\"val\": \"mann-k\", \"messages\": 23381}, {\"val\": \"jones-t\", \"messages\": 19950}, {\"val\": \"shackleton-s\", \"messages\": 18687}, {\"val\": \"taylor-m\", \"messages\": 13875}, {\"val\": \"farmer-d\", \"messages\": 13032}, {\"val\": \"germany-c\", \"messages\": 12436}, {\"val\": \"beck-s\", \"messages\": 11830}, {\"val\": \"symes-k\", \"messages\": 10827}, {\"val\": \"nemec-g\", \"messages\": 10655}, {\"val\": \"scott-s\", \"messages\": 8022}, {\"val\": \"rogers-b\", \"messages\": 8009}, {\"val\": \"bass-e\", \"messages\": 7823}, {\"val\": \"sanders-r\", \"messages\": 7329}, {\"val\": \"campbell-l\", \"messages\": 6490}, {\"val\": \"shapiro-r\", \"messages\": 6071}, {\"val\": \"guzman-m\", \"messages\": 6054}, {\"val\": \"lay-k\", \"messages\": 5937}]}}, {\"mode\": \"vega-lite\"});\n",
       "</script>"
      ],
      "text/plain": [
       "alt.LayerChart(...)"
      ]
     },
     "execution_count": 81,
     "metadata": {},
     "output_type": "execute_result"
    }
   ],
   "source": [
    "# Plotting\n",
    "\n",
    "bars = alt.Chart(top20df2).mark_bar().encode(\n",
    "\talt.X('val',title = 'Users'),\n",
    "\talt.Y('messages', title = '# of messages')\n",
    "\t)\n",
    "\n",
    "text = bars.mark_text(\n",
    "\talign='center',\n",
    "\tbaseline='middle',\n",
    "\tdx=1\n",
    ").encode(\n",
    "\ttext='messages'\n",
    ")\n",
    "\n",
    "(bars + text).properties(width=800)"
   ]
  },
  {
   "cell_type": "code",
   "execution_count": 50,
   "metadata": {},
   "outputs": [
    {
     "name": "stdout",
     "output_type": "stream",
     "text": [
      "+--------+\n",
      "|count(1)|\n",
      "+--------+\n",
      "| 1583415|\n",
      "+--------+\n",
      "\n"
     ]
    }
   ],
   "source": [
    "spark.sql(\"select count(1) from tmpView_emailDf\").show()\n",
    "# 1,583,415\n"
   ]
  },
  {
   "cell_type": "code",
   "execution_count": 108,
   "metadata": {},
   "outputs": [
    {
     "data": {
      "text/plain": [
       "\"Message-ID: <24216240.1075855687451.JavaMail.evans@thyme>\\nDate: Wed, 18 Oct 2000 03:00:00 -0700 (PDT)\\nFrom: phillip.allen@enron.com\\nTo: leah.arsdall@enron.com\\nSubject: Re: test\\nMime-Version: 1.0\\nContent-Type: text/plain; charset=us-ascii\\nContent-Transfer-Encoding: 7bit\\nX-From: Phillip K Allen\\nX-To: Leah Van Arsdall\\nX-cc: \\nX-bcc: \\nX-Folder: \\\\Phillip_Allen_Dec2000\\\\Notes Folders\\\\'sent mail\\nX-Origin: Allen-P\\nX-FileName: pallen.nsf\\n\\ntest successful.  way to go!!!\""
      ]
     },
     "execution_count": 108,
     "metadata": {},
     "output_type": "execute_result"
    }
   ],
   "source": [
    "# message sample\n",
    "plain_sample_msg_df = spark.sql(\"select message from tmpView_emailDf LIMIT 10\").toPandas()\n",
    "plain_sample_msg = plain_sample_msg_df.message\n",
    "plain_sample_msg = plain_sample_msg[8].strip()\n",
    "len(plain_sample_msg)\n",
    "plain_sample_msg\n",
    "\n"
   ]
  },
  {
   "cell_type": "code",
   "execution_count": 13,
   "metadata": {},
   "outputs": [
    {
     "data": {
      "text/plain": [
       "('username',\n",
       " 'payload',\n",
       " 'Message_ID',\n",
       " 'Date',\n",
       " 'From',\n",
       " 'To',\n",
       " 'Subject',\n",
       " 'Mime_Version',\n",
       " 'Content_Type',\n",
       " 'Content_Transfer_Encoding',\n",
       " 'X_From',\n",
       " 'X_To',\n",
       " 'X_cc',\n",
       " 'X_bcc',\n",
       " 'X_Folder',\n",
       " 'X_Origin',\n",
       " 'X_FileName',\n",
       " 'Cc',\n",
       " 'Bcc')"
      ]
     },
     "execution_count": 13,
     "metadata": {},
     "output_type": "execute_result"
    }
   ],
   "source": [
    "output_columns = [\n",
    "    'username',\n",
    "    'payload',\n",
    "    'Message-ID',\n",
    "    'Date',\n",
    "    'From',\n",
    "    'To',\n",
    "    'Subject',\n",
    "    'Mime-Version',\n",
    "    'Content-Type',\n",
    "    'Content-Transfer-Encoding',\n",
    "    'X-From',\n",
    "    'X-To',\n",
    "    'X-cc',\n",
    "    'X-bcc',\n",
    "    'X-Folder',\n",
    "    'X-Origin',\n",
    "    'X-FileName',\n",
    "    'Cc',\n",
    "    'Bcc'\n",
    "]\n",
    "\n",
    "columns = [column.replace('-', '_') for column in output_columns]\n",
    "# columns = output_columns\n",
    "ParsedEmail = namedtuple('ParsedEmail', columns)\n",
    "ParsedEmail._fields"
   ]
  },
  {
   "cell_type": "code",
   "execution_count": 11,
   "metadata": {},
   "outputs": [],
   "source": [
    "def parse_email(original_msg):\n",
    "    result = {}\n",
    "    msg = Parser(policy=default).parsestr(original_msg)\n",
    "    result['payload'] = msg.get_payload()\n",
    "    # result['text'] = parse_html_payload(result['payload'])\n",
    "    try:\n",
    "        for key, value in msg.items():\n",
    "            result[key.replace('-', '_')] = value\n",
    "    except Exception as e:\n",
    "        print('Problem parsing email: {} {}'.format(\"email\", e))\n",
    "\n",
    "    try:\n",
    "        result['Date'] = parse(result['Date'], ignoretz=False).isoformat()\n",
    "    except Exception as e:\n",
    "        print('Problem converting date: {} {}'.format(result.get('date'), e))\n",
    "\n",
    "    tuple_result = tuple([str(result.get(column, None)) for column in columns])\n",
    "    return ParsedEmail(*tuple_result)\n"
   ]
  },
  {
   "cell_type": "code",
   "execution_count": 120,
   "metadata": {},
   "outputs": [
    {
     "name": "stdout",
     "output_type": "stream",
     "text": [
      "test successful.  way to go!!!\n",
      "None\n",
      "2000-10-18T03:00:00-07:00\n",
      "<24216240.1075855687451.JavaMail.evans@thyme>\n",
      "phillip.allen@enron.com\n"
     ]
    }
   ],
   "source": [
    "parsed_msg = parse_email(plain_sample_msg)\n",
    "print(parsed_msg.payload)\n",
    "print(parsed_msg.username)\n",
    "print(parsed_msg.Date)\n",
    "print(parsed_msg.Message_ID)\n",
    "print(parsed_msg.From)\n"
   ]
  },
  {
   "cell_type": "code",
   "execution_count": 14,
   "metadata": {},
   "outputs": [],
   "source": [
    "## This creates a schema for the email data\n",
    "email_struct = StructType()\n",
    "\n",
    "for column in columns:\n",
    "    email_struct.add(column, StringType(), True)"
   ]
  },
  {
   "cell_type": "code",
   "execution_count": 17,
   "metadata": {},
   "outputs": [],
   "source": [
    "parse_email_func = udf(lambda z: parse_email(z), email_struct)\n",
    "\n",
    "\n",
    "def parse_emails(input_df):\n",
    "    # new_df = input_df.select(\n",
    "    #     'username', 'id', 'original_msg', parse_email_func(\n",
    "    #         'original_msg').alias('parsed_email')\n",
    "    # )\n",
    "    new_df = input_df.select(\n",
    "        'users', 'val', 'message', parse_email_func(\n",
    "            'message').alias('parsed_email')\n",
    "    )\n",
    "\n",
    "    for column in columns:\n",
    "        new_df = new_df.withColumn(column, new_df.parsed_email[column])\n",
    "\n",
    "    new_df = new_df.drop('parsed_email')\n",
    "    return new_df\n"
   ]
  },
  {
   "cell_type": "code",
   "execution_count": 2,
   "metadata": {},
   "outputs": [
    {
     "ename": "NameError",
     "evalue": "name 'spark' is not defined",
     "output_type": "error",
     "traceback": [
      "\u001b[1;31m---------------------------------------------------------------------------\u001b[0m",
      "\u001b[1;31mNameError\u001b[0m                                 Traceback (most recent call last)",
      "\u001b[1;32m<ipython-input-2-568706a65dcd>\u001b[0m in \u001b[0;36m<module>\u001b[1;34m\u001b[0m\n\u001b[1;32m----> 1\u001b[1;33m \u001b[0mdf3\u001b[0m \u001b[1;33m=\u001b[0m \u001b[0mspark\u001b[0m\u001b[1;33m.\u001b[0m\u001b[0msql\u001b[0m\u001b[1;33m(\u001b[0m\u001b[1;34m\"select * from tmpView_emailDf  where users='username0'\"\u001b[0m\u001b[1;33m)\u001b[0m\u001b[1;33m\u001b[0m\u001b[1;33m\u001b[0m\u001b[0m\n\u001b[0m\u001b[0;32m      2\u001b[0m \u001b[0mdf3\u001b[0m\u001b[1;33m.\u001b[0m\u001b[0mshow\u001b[0m\u001b[1;33m(\u001b[0m\u001b[1;33m)\u001b[0m\u001b[1;33m\u001b[0m\u001b[1;33m\u001b[0m\u001b[0m\n",
      "\u001b[1;31mNameError\u001b[0m: name 'spark' is not defined"
     ]
    }
   ],
   "source": [
    "df3 = spark.sql(\"select * from tmpView_emailDf\twhere users='username0'\")\n",
    "df3.show()"
   ]
  },
  {
   "cell_type": "code",
   "execution_count": 22,
   "metadata": {},
   "outputs": [],
   "source": [
    "n_df = parse_emails(df3)\n",
    "p_df = n_df.toPandas()\n",
    "p_df.show()"
   ]
  },
  {
   "cell_type": "code",
   "execution_count": 1,
   "metadata": {},
   "outputs": [
    {
     "ename": "NameError",
     "evalue": "name 'p_df' is not defined",
     "output_type": "error",
     "traceback": [
      "\u001b[1;31m---------------------------------------------------------------------------\u001b[0m",
      "\u001b[1;31mNameError\u001b[0m                                 Traceback (most recent call last)",
      "\u001b[1;32m<ipython-input-1-fafacb5d40a9>\u001b[0m in \u001b[0;36m<module>\u001b[1;34m\u001b[0m\n\u001b[1;32m----> 1\u001b[1;33m \u001b[0mp_df\u001b[0m\u001b[1;33m.\u001b[0m\u001b[0mshow\u001b[0m\u001b[1;33m(\u001b[0m\u001b[1;33m)\u001b[0m\u001b[1;33m\u001b[0m\u001b[1;33m\u001b[0m\u001b[0m\n\u001b[0m",
      "\u001b[1;31mNameError\u001b[0m: name 'p_df' is not defined"
     ]
    }
   ],
   "source": [
    "p_df.show()"
   ]
  },
  {
   "cell_type": "code",
   "execution_count": null,
   "metadata": {},
   "outputs": [],
   "source": [
    "# ## This creates a user-defined function which can be used in Spark\n",
    "# parse_email_func = udf(lambda z: parse_email(z), email_struct)\n",
    "\n",
    "\n",
    "# def parse_emails(input_df):\n",
    "#     new_df = input_df.select(\n",
    "#         'username', 'id', 'original_msg', parse_email_func(\n",
    "#             'original_msg').alias('parsed_email')\n",
    "#     )\n",
    "#     for column in columns:\n",
    "#         new_df = new_df.withColumn(column, new_df.parsed_email[column])\n",
    "\n",
    "#     new_df = new_df.drop('parsed_email')\n",
    "#     return new_df\n",
    "\n",
    "\n",
    "# class ParseEmailsTransformer(Transformer):\n",
    "#     def _transform(self, dataset):\n",
    "#         \"\"\"\n",
    "#         Transforms the input dataset.\n",
    "\n",
    "#         :param dataset: input dataset, which is an instance of :py:class:`pyspark.sql.DataFrame`\n",
    "#         :returns: transformed dataset\n",
    "#         \"\"\"\n",
    "#         return dataset.transform(parse_emails)\n",
    "\n",
    "\n",
    "# ## Use the custom ParseEmailsTransformer, Tokenizer, and CountVectorizer\n",
    "# ## to create a spark pipeline\n",
    "# tokenizer = Tokenizer(inputCol=\"original_msg\", outputCol=\"words\")\n",
    "# count_vectorizer = CountVectorizer(\n",
    "#     inputCol=tokenizer.getOutputCol(), outputCol=\"features\")\n",
    "\n",
    "# email_pipeline = Pipeline(\n",
    "#     ## TODO: Complete code\n",
    "#     stages=[\n",
    "#         # //*** Stage 1: parsing the email message\n",
    "#         ParseEmailsTransformer(),\n",
    "#         # //*** Tokenizer\n",
    "#         tokenizer,\n",
    "#         # //*** Implement Count vectorizer\n",
    "#         count_vectorizer\n",
    "#     ]\n",
    "# )\n",
    "# model = email_pipeline.fit(df)\n",
    "# result = model.transform(df)\n"
   ]
  }
 ],
 "metadata": {
  "interpreter": {
   "hash": "d2398cd6c937708e42b80c0dce25ca405d0c6827c5ebcbcac9817d73cd0bc02f"
  },
  "kernelspec": {
   "display_name": "Python 3.6.10 ('dsc650')",
   "language": "python",
   "name": "python3"
  },
  "language_info": {
   "codemirror_mode": {
    "name": "ipython",
    "version": 3
   },
   "file_extension": ".py",
   "mimetype": "text/x-python",
   "name": "python",
   "nbconvert_exporter": "python",
   "pygments_lexer": "ipython3",
   "version": "3.6.10"
  },
  "orig_nbformat": 4
 },
 "nbformat": 4,
 "nbformat_minor": 2
}
