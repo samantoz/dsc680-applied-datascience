{
 "cells": [
  {
   "cell_type": "code",
   "execution_count": 1,
   "metadata": {},
   "outputs": [],
   "source": [
    "import os\n",
    "from pathlib import Path"
   ]
  },
  {
   "cell_type": "code",
   "execution_count": 2,
   "metadata": {},
   "outputs": [
    {
     "name": "stdout",
     "output_type": "stream",
     "text": [
      "current_dir: c:\\Users\\saman\\git_repos\\dsc680-applied-datascience\\Project-1\n",
      "data_dir: Z:\\BU_DSC\\dsc680\\project1\\data\n"
     ]
    }
   ],
   "source": [
    "current_dir = Path(os.getcwd()).absolute()\n",
    "print('current_dir:', current_dir)\n",
    "enron_data_dir = 'Z:\\BU_DSC\\dsc680\\project1\\data'\n",
    "print('data_dir:',enron_data_dir)"
   ]
  },
  {
   "cell_type": "code",
   "execution_count": 2,
   "metadata": {},
   "outputs": [],
   "source": [
    "from pyspark.sql import SparkSession"
   ]
  },
  {
   "cell_type": "code",
   "execution_count": 3,
   "metadata": {},
   "outputs": [],
   "source": [
    "spark = SparkSession\\\n",
    "    .builder\\\n",
    "    .appName(\"EnronEmailAnalysis\")\\\n",
    "    .getOrCreate()"
   ]
  },
  {
   "cell_type": "code",
   "execution_count": 8,
   "metadata": {},
   "outputs": [],
   "source": [
    "from pyspark.sql.types import *"
   ]
  },
  {
   "cell_type": "code",
   "execution_count": 9,
   "metadata": {},
   "outputs": [
    {
     "data": {
      "text/plain": [
       "StructType(List(StructField(file,StringType,true),StructField(message,StringType,true)))"
      ]
     },
     "execution_count": 9,
     "metadata": {},
     "output_type": "execute_result"
    }
   ],
   "source": [
    "fileDir = StructField(\"file\",StringType(), True)\n",
    "emailMsg = StructField(\"message\",StringType(), True)\n",
    "columnList = [fileDir, emailMsg]\n",
    "emailDfSchema = StructType(columnList)\n",
    "emailDfSchema"
   ]
  },
  {
   "cell_type": "code",
   "execution_count": 29,
   "metadata": {},
   "outputs": [],
   "source": [
    "emailDf = spark.read.csv(\n",
    "\tpath='emails.csv',\n",
    "\theader=True,\n",
    "\tmultiLine=True,\n",
    "\tquote = '\"',\n",
    "\tescape='\"',\n",
    "\tschema=emailDfSchema\n",
    ")"
   ]
  },
  {
   "cell_type": "code",
   "execution_count": 35,
   "metadata": {},
   "outputs": [
    {
     "name": "stdout",
     "output_type": "stream",
     "text": [
      "+--------------------+--------------------+\n",
      "|                file|             message|\n",
      "+--------------------+--------------------+\n",
      "|allen-p/_sent_mai...|Message-ID: <1878...|\n",
      "|allen-p/_sent_mai...|Message-ID: <1546...|\n",
      "|allen-p/_sent_mai...|Message-ID: <2421...|\n",
      "|allen-p/_sent_mai...|Message-ID: <1350...|\n",
      "|allen-p/_sent_mai...|Message-ID: <3092...|\n",
      "+--------------------+--------------------+\n",
      "only showing top 5 rows\n",
      "\n",
      "root\n",
      " |-- file: string (nullable = true)\n",
      " |-- message: string (nullable = true)\n",
      "\n"
     ]
    }
   ],
   "source": [
    "# emailDf.count()\n",
    "emailDf.show(5, truncate=True)\n",
    "emailDf.printSchema()\n"
   ]
  },
  {
   "cell_type": "code",
   "execution_count": 36,
   "metadata": {},
   "outputs": [],
   "source": [
    "emailDf.createOrReplaceTempView(\"emailDf\")"
   ]
  },
  {
   "cell_type": "code",
   "execution_count": 49,
   "metadata": {},
   "outputs": [
    {
     "name": "stdout",
     "output_type": "stream",
     "text": [
      "+------------+--------+\n",
      "|        name|messages|\n",
      "+------------+--------+\n",
      "|  kaminski-v|   28465|\n",
      "|  dasovich-j|   28234|\n",
      "|      kean-s|   25351|\n",
      "|      mann-k|   23381|\n",
      "|     jones-t|   19950|\n",
      "|shackleton-s|   18687|\n",
      "|    taylor-m|   13875|\n",
      "|    farmer-d|   13032|\n",
      "|   germany-c|   12436|\n",
      "|      beck-s|   11830|\n",
      "|     symes-k|   10827|\n",
      "|     nemec-g|   10655|\n",
      "|     scott-s|    8022|\n",
      "|    rogers-b|    8009|\n",
      "|      bass-e|    7823|\n",
      "|   sanders-r|    7329|\n",
      "|  campbell-l|    6490|\n",
      "|   shapiro-r|    6071|\n",
      "|    guzman-m|    6054|\n",
      "|       lay-k|    5937|\n",
      "+------------+--------+\n",
      "only showing top 20 rows\n",
      "\n"
     ]
    }
   ],
   "source": [
    "spark.sql(\"select substr(file,1,instr(file,'/')-1) as name,count(message) as messages \\\n",
    "          from emailDf \\\n",
    "\t\t\t  group by name \\\n",
    "\t\t\t\t  order by messages desc\").show()\n"
   ]
  }
 ],
 "metadata": {
  "kernelspec": {
   "display_name": "Python 3",
   "language": "python",
   "name": "python3"
  },
  "language_info": {
   "codemirror_mode": {
    "name": "ipython",
    "version": 3
   },
   "file_extension": ".py",
   "mimetype": "text/x-python",
   "name": "python",
   "nbconvert_exporter": "python",
   "pygments_lexer": "ipython3",
   "version": "3.6.10"
  }
 },
 "nbformat": 4,
 "nbformat_minor": 4
}
