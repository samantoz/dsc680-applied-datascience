{
 "cells": [
  {
   "cell_type": "code",
   "execution_count": 11,
   "id": "1e56fc5a-66a4-4b39-806d-83c241b95ba0",
   "metadata": {},
   "outputs": [
    {
     "ename": "ModuleNotFoundError",
     "evalue": "No module named 'fmatch'",
     "output_type": "error",
     "traceback": [
      "\u001b[1;31m---------------------------------------------------------------------------\u001b[0m",
      "\u001b[1;31mModuleNotFoundError\u001b[0m                       Traceback (most recent call last)",
      "\u001b[1;32m~\\AppData\\Local\\Temp/ipykernel_25836/946863223.py\u001b[0m in \u001b[0;36m<module>\u001b[1;34m\u001b[0m\n\u001b[0;32m      1\u001b[0m \u001b[1;32mimport\u001b[0m \u001b[0mpandas\u001b[0m \u001b[1;32mas\u001b[0m \u001b[0mpd\u001b[0m\u001b[1;33m\u001b[0m\u001b[1;33m\u001b[0m\u001b[0m\n\u001b[0;32m      2\u001b[0m \u001b[1;32mimport\u001b[0m \u001b[0mzipfile\u001b[0m \u001b[1;32mas\u001b[0m \u001b[0mzf\u001b[0m\u001b[1;33m\u001b[0m\u001b[1;33m\u001b[0m\u001b[0m\n\u001b[1;32m----> 3\u001b[1;33m \u001b[1;32mimport\u001b[0m \u001b[0mfmatch\u001b[0m \u001b[1;32mas\u001b[0m \u001b[0mfm\u001b[0m\u001b[1;33m\u001b[0m\u001b[1;33m\u001b[0m\u001b[0m\n\u001b[0m",
      "\u001b[1;31mModuleNotFoundError\u001b[0m: No module named 'fmatch'"
     ]
    }
   ],
   "source": [
    "import pandas as pd\n",
    "import zipfile as zf\n",
    "import fmatch as fm"
   ]
  },
  {
   "cell_type": "code",
   "execution_count": 8,
   "id": "ff6eb781-b792-447d-bc7c-829d55e53dc6",
   "metadata": {},
   "outputs": [
    {
     "name": "stdout",
     "output_type": "stream",
     "text": [
      "['Crosswalks.zip', '__MACOSX/._Crosswalks.zip', 'data.yaml', 'FieldOfStudyData1415_1516_PP.csv', 'FieldOfStudyData1516_1617_PP.csv', 'FieldOfStudyData1617_1718_PP.csv', 'FieldOfStudyData1718_1819_PP.csv', 'MERGED1996_97_PP.csv', '__MACOSX/._MERGED1996_97_PP.csv', 'MERGED1997_98_PP.csv', '__MACOSX/._MERGED1997_98_PP.csv', 'MERGED1998_99_PP.csv', '__MACOSX/._MERGED1998_99_PP.csv', 'MERGED1999_00_PP.csv', '__MACOSX/._MERGED1999_00_PP.csv', 'MERGED2000_01_PP.csv', '__MACOSX/._MERGED2000_01_PP.csv', 'MERGED2001_02_PP.csv', '__MACOSX/._MERGED2001_02_PP.csv', 'MERGED2002_03_PP.csv', '__MACOSX/._MERGED2002_03_PP.csv', 'MERGED2003_04_PP.csv', '__MACOSX/._MERGED2003_04_PP.csv', 'MERGED2004_05_PP.csv', '__MACOSX/._MERGED2004_05_PP.csv', 'MERGED2005_06_PP.csv', '__MACOSX/._MERGED2005_06_PP.csv', 'MERGED2006_07_PP.csv', '__MACOSX/._MERGED2006_07_PP.csv', 'MERGED2007_08_PP.csv', '__MACOSX/._MERGED2007_08_PP.csv', 'MERGED2008_09_PP.csv', '__MACOSX/._MERGED2008_09_PP.csv', 'MERGED2009_10_PP.csv', '__MACOSX/._MERGED2009_10_PP.csv', 'MERGED2010_11_PP.csv', '__MACOSX/._MERGED2010_11_PP.csv', 'MERGED2011_12_PP.csv', '__MACOSX/._MERGED2011_12_PP.csv', 'MERGED2012_13_PP.csv', '__MACOSX/._MERGED2012_13_PP.csv', 'MERGED2013_14_PP.csv', '__MACOSX/._MERGED2013_14_PP.csv', 'MERGED2014_15_PP.csv', '__MACOSX/._MERGED2014_15_PP.csv', 'MERGED2015_16_PP.csv', '__MACOSX/._MERGED2015_16_PP.csv', 'MERGED2016_17_PP.csv', '__MACOSX/._MERGED2016_17_PP.csv', 'MERGED2017_18_PP.csv', '__MACOSX/._MERGED2017_18_PP.csv', 'MERGED2018_19_PP.csv', '__MACOSX/._MERGED2018_19_PP.csv', 'MERGED2019_20_PP.csv', '__MACOSX/._MERGED2019_20_PP.csv', 'Most-Recent-Cohorts-Field-of-Study.csv', 'Most-Recent-Cohorts-Institution.csv', '__MACOSX/._Most-Recent-Cohorts-Institution.csv']\n"
     ]
    }
   ],
   "source": [
    "\n",
    "with zf.ZipFile(\"CollegeScorecard_Raw_Data_03142022.zip\") as zipped_files:\n",
    "    file_list = zipped_files.namelist()\n",
    "    # print(file_list)\n",
    "    csv_file = file_list"
   ]
  },
  {
   "cell_type": "code",
   "execution_count": 3,
   "id": "3ed3aeac-8a83-47a2-bac6-e5544cfd5297",
   "metadata": {},
   "outputs": [
    {
     "ename": "ValueError",
     "evalue": "Multiple files found in ZIP file. Only one file per ZIP: ['Crosswalks.zip', '__MACOSX/._Crosswalks.zip', 'data.yaml', 'FieldOfStudyData1415_1516_PP.csv', 'FieldOfStudyData1516_1617_PP.csv', 'FieldOfStudyData1617_1718_PP.csv', 'FieldOfStudyData1718_1819_PP.csv', 'MERGED1996_97_PP.csv', '__MACOSX/._MERGED1996_97_PP.csv', 'MERGED1997_98_PP.csv', '__MACOSX/._MERGED1997_98_PP.csv', 'MERGED1998_99_PP.csv', '__MACOSX/._MERGED1998_99_PP.csv', 'MERGED1999_00_PP.csv', '__MACOSX/._MERGED1999_00_PP.csv', 'MERGED2000_01_PP.csv', '__MACOSX/._MERGED2000_01_PP.csv', 'MERGED2001_02_PP.csv', '__MACOSX/._MERGED2001_02_PP.csv', 'MERGED2002_03_PP.csv', '__MACOSX/._MERGED2002_03_PP.csv', 'MERGED2003_04_PP.csv', '__MACOSX/._MERGED2003_04_PP.csv', 'MERGED2004_05_PP.csv', '__MACOSX/._MERGED2004_05_PP.csv', 'MERGED2005_06_PP.csv', '__MACOSX/._MERGED2005_06_PP.csv', 'MERGED2006_07_PP.csv', '__MACOSX/._MERGED2006_07_PP.csv', 'MERGED2007_08_PP.csv', '__MACOSX/._MERGED2007_08_PP.csv', 'MERGED2008_09_PP.csv', '__MACOSX/._MERGED2008_09_PP.csv', 'MERGED2009_10_PP.csv', '__MACOSX/._MERGED2009_10_PP.csv', 'MERGED2010_11_PP.csv', '__MACOSX/._MERGED2010_11_PP.csv', 'MERGED2011_12_PP.csv', '__MACOSX/._MERGED2011_12_PP.csv', 'MERGED2012_13_PP.csv', '__MACOSX/._MERGED2012_13_PP.csv', 'MERGED2013_14_PP.csv', '__MACOSX/._MERGED2013_14_PP.csv', 'MERGED2014_15_PP.csv', '__MACOSX/._MERGED2014_15_PP.csv', 'MERGED2015_16_PP.csv', '__MACOSX/._MERGED2015_16_PP.csv', 'MERGED2016_17_PP.csv', '__MACOSX/._MERGED2016_17_PP.csv', 'MERGED2017_18_PP.csv', '__MACOSX/._MERGED2017_18_PP.csv', 'MERGED2018_19_PP.csv', '__MACOSX/._MERGED2018_19_PP.csv', 'MERGED2019_20_PP.csv', '__MACOSX/._MERGED2019_20_PP.csv', 'Most-Recent-Cohorts-Field-of-Study.csv', 'Most-Recent-Cohorts-Institution.csv', '__MACOSX/._Most-Recent-Cohorts-Institution.csv']",
     "output_type": "error",
     "traceback": [
      "\u001b[1;31m---------------------------------------------------------------------------\u001b[0m",
      "\u001b[1;31mValueError\u001b[0m                                Traceback (most recent call last)",
      "\u001b[1;32m~\\AppData\\Local\\Temp/ipykernel_25836/3632473372.py\u001b[0m in \u001b[0;36m<module>\u001b[1;34m\u001b[0m\n\u001b[1;32m----> 1\u001b[1;33m \u001b[0mdf_college_scorecard_raw_data\u001b[0m \u001b[1;33m=\u001b[0m \u001b[0mpd\u001b[0m\u001b[1;33m.\u001b[0m\u001b[0mread_csv\u001b[0m\u001b[1;33m(\u001b[0m\u001b[1;34m'CollegeScorecard_Raw_Data_03142022.zip'\u001b[0m\u001b[1;33m)\u001b[0m\u001b[1;33m\u001b[0m\u001b[1;33m\u001b[0m\u001b[0m\n\u001b[0m\u001b[0;32m      2\u001b[0m \u001b[0mdf_college_scorecard_raw_data\u001b[0m\u001b[1;33m.\u001b[0m\u001b[0mhead\u001b[0m\u001b[1;33m(\u001b[0m\u001b[1;36m5\u001b[0m\u001b[1;33m)\u001b[0m\u001b[1;33m\u001b[0m\u001b[1;33m\u001b[0m\u001b[0m\n",
      "\u001b[1;32m~\\AppData\\Roaming\\Python\\Python39\\site-packages\\pandas\\util\\_decorators.py\u001b[0m in \u001b[0;36mwrapper\u001b[1;34m(*args, **kwargs)\u001b[0m\n\u001b[0;32m    309\u001b[0m                     \u001b[0mstacklevel\u001b[0m\u001b[1;33m=\u001b[0m\u001b[0mstacklevel\u001b[0m\u001b[1;33m,\u001b[0m\u001b[1;33m\u001b[0m\u001b[1;33m\u001b[0m\u001b[0m\n\u001b[0;32m    310\u001b[0m                 )\n\u001b[1;32m--> 311\u001b[1;33m             \u001b[1;32mreturn\u001b[0m \u001b[0mfunc\u001b[0m\u001b[1;33m(\u001b[0m\u001b[1;33m*\u001b[0m\u001b[0margs\u001b[0m\u001b[1;33m,\u001b[0m \u001b[1;33m**\u001b[0m\u001b[0mkwargs\u001b[0m\u001b[1;33m)\u001b[0m\u001b[1;33m\u001b[0m\u001b[1;33m\u001b[0m\u001b[0m\n\u001b[0m\u001b[0;32m    312\u001b[0m \u001b[1;33m\u001b[0m\u001b[0m\n\u001b[0;32m    313\u001b[0m         \u001b[1;32mreturn\u001b[0m \u001b[0mwrapper\u001b[0m\u001b[1;33m\u001b[0m\u001b[1;33m\u001b[0m\u001b[0m\n",
      "\u001b[1;32m~\\AppData\\Roaming\\Python\\Python39\\site-packages\\pandas\\io\\parsers\\readers.py\u001b[0m in \u001b[0;36mread_csv\u001b[1;34m(filepath_or_buffer, sep, delimiter, header, names, index_col, usecols, squeeze, prefix, mangle_dupe_cols, dtype, engine, converters, true_values, false_values, skipinitialspace, skiprows, skipfooter, nrows, na_values, keep_default_na, na_filter, verbose, skip_blank_lines, parse_dates, infer_datetime_format, keep_date_col, date_parser, dayfirst, cache_dates, iterator, chunksize, compression, thousands, decimal, lineterminator, quotechar, quoting, doublequote, escapechar, comment, encoding, encoding_errors, dialect, error_bad_lines, warn_bad_lines, on_bad_lines, delim_whitespace, low_memory, memory_map, float_precision, storage_options)\u001b[0m\n\u001b[0;32m    584\u001b[0m     \u001b[0mkwds\u001b[0m\u001b[1;33m.\u001b[0m\u001b[0mupdate\u001b[0m\u001b[1;33m(\u001b[0m\u001b[0mkwds_defaults\u001b[0m\u001b[1;33m)\u001b[0m\u001b[1;33m\u001b[0m\u001b[1;33m\u001b[0m\u001b[0m\n\u001b[0;32m    585\u001b[0m \u001b[1;33m\u001b[0m\u001b[0m\n\u001b[1;32m--> 586\u001b[1;33m     \u001b[1;32mreturn\u001b[0m \u001b[0m_read\u001b[0m\u001b[1;33m(\u001b[0m\u001b[0mfilepath_or_buffer\u001b[0m\u001b[1;33m,\u001b[0m \u001b[0mkwds\u001b[0m\u001b[1;33m)\u001b[0m\u001b[1;33m\u001b[0m\u001b[1;33m\u001b[0m\u001b[0m\n\u001b[0m\u001b[0;32m    587\u001b[0m \u001b[1;33m\u001b[0m\u001b[0m\n\u001b[0;32m    588\u001b[0m \u001b[1;33m\u001b[0m\u001b[0m\n",
      "\u001b[1;32m~\\AppData\\Roaming\\Python\\Python39\\site-packages\\pandas\\io\\parsers\\readers.py\u001b[0m in \u001b[0;36m_read\u001b[1;34m(filepath_or_buffer, kwds)\u001b[0m\n\u001b[0;32m    480\u001b[0m \u001b[1;33m\u001b[0m\u001b[0m\n\u001b[0;32m    481\u001b[0m     \u001b[1;31m# Create the parser.\u001b[0m\u001b[1;33m\u001b[0m\u001b[1;33m\u001b[0m\u001b[0m\n\u001b[1;32m--> 482\u001b[1;33m     \u001b[0mparser\u001b[0m \u001b[1;33m=\u001b[0m \u001b[0mTextFileReader\u001b[0m\u001b[1;33m(\u001b[0m\u001b[0mfilepath_or_buffer\u001b[0m\u001b[1;33m,\u001b[0m \u001b[1;33m**\u001b[0m\u001b[0mkwds\u001b[0m\u001b[1;33m)\u001b[0m\u001b[1;33m\u001b[0m\u001b[1;33m\u001b[0m\u001b[0m\n\u001b[0m\u001b[0;32m    483\u001b[0m \u001b[1;33m\u001b[0m\u001b[0m\n\u001b[0;32m    484\u001b[0m     \u001b[1;32mif\u001b[0m \u001b[0mchunksize\u001b[0m \u001b[1;32mor\u001b[0m \u001b[0miterator\u001b[0m\u001b[1;33m:\u001b[0m\u001b[1;33m\u001b[0m\u001b[1;33m\u001b[0m\u001b[0m\n",
      "\u001b[1;32m~\\AppData\\Roaming\\Python\\Python39\\site-packages\\pandas\\io\\parsers\\readers.py\u001b[0m in \u001b[0;36m__init__\u001b[1;34m(self, f, engine, **kwds)\u001b[0m\n\u001b[0;32m    809\u001b[0m             \u001b[0mself\u001b[0m\u001b[1;33m.\u001b[0m\u001b[0moptions\u001b[0m\u001b[1;33m[\u001b[0m\u001b[1;34m\"has_index_names\"\u001b[0m\u001b[1;33m]\u001b[0m \u001b[1;33m=\u001b[0m \u001b[0mkwds\u001b[0m\u001b[1;33m[\u001b[0m\u001b[1;34m\"has_index_names\"\u001b[0m\u001b[1;33m]\u001b[0m\u001b[1;33m\u001b[0m\u001b[1;33m\u001b[0m\u001b[0m\n\u001b[0;32m    810\u001b[0m \u001b[1;33m\u001b[0m\u001b[0m\n\u001b[1;32m--> 811\u001b[1;33m         \u001b[0mself\u001b[0m\u001b[1;33m.\u001b[0m\u001b[0m_engine\u001b[0m \u001b[1;33m=\u001b[0m \u001b[0mself\u001b[0m\u001b[1;33m.\u001b[0m\u001b[0m_make_engine\u001b[0m\u001b[1;33m(\u001b[0m\u001b[0mself\u001b[0m\u001b[1;33m.\u001b[0m\u001b[0mengine\u001b[0m\u001b[1;33m)\u001b[0m\u001b[1;33m\u001b[0m\u001b[1;33m\u001b[0m\u001b[0m\n\u001b[0m\u001b[0;32m    812\u001b[0m \u001b[1;33m\u001b[0m\u001b[0m\n\u001b[0;32m    813\u001b[0m     \u001b[1;32mdef\u001b[0m \u001b[0mclose\u001b[0m\u001b[1;33m(\u001b[0m\u001b[0mself\u001b[0m\u001b[1;33m)\u001b[0m\u001b[1;33m:\u001b[0m\u001b[1;33m\u001b[0m\u001b[1;33m\u001b[0m\u001b[0m\n",
      "\u001b[1;32m~\\AppData\\Roaming\\Python\\Python39\\site-packages\\pandas\\io\\parsers\\readers.py\u001b[0m in \u001b[0;36m_make_engine\u001b[1;34m(self, engine)\u001b[0m\n\u001b[0;32m   1038\u001b[0m             )\n\u001b[0;32m   1039\u001b[0m         \u001b[1;31m# error: Too many arguments for \"ParserBase\"\u001b[0m\u001b[1;33m\u001b[0m\u001b[1;33m\u001b[0m\u001b[0m\n\u001b[1;32m-> 1040\u001b[1;33m         \u001b[1;32mreturn\u001b[0m \u001b[0mmapping\u001b[0m\u001b[1;33m[\u001b[0m\u001b[0mengine\u001b[0m\u001b[1;33m]\u001b[0m\u001b[1;33m(\u001b[0m\u001b[0mself\u001b[0m\u001b[1;33m.\u001b[0m\u001b[0mf\u001b[0m\u001b[1;33m,\u001b[0m \u001b[1;33m**\u001b[0m\u001b[0mself\u001b[0m\u001b[1;33m.\u001b[0m\u001b[0moptions\u001b[0m\u001b[1;33m)\u001b[0m  \u001b[1;31m# type: ignore[call-arg]\u001b[0m\u001b[1;33m\u001b[0m\u001b[1;33m\u001b[0m\u001b[0m\n\u001b[0m\u001b[0;32m   1041\u001b[0m \u001b[1;33m\u001b[0m\u001b[0m\n\u001b[0;32m   1042\u001b[0m     \u001b[1;32mdef\u001b[0m \u001b[0m_failover_to_python\u001b[0m\u001b[1;33m(\u001b[0m\u001b[0mself\u001b[0m\u001b[1;33m)\u001b[0m\u001b[1;33m:\u001b[0m\u001b[1;33m\u001b[0m\u001b[1;33m\u001b[0m\u001b[0m\n",
      "\u001b[1;32m~\\AppData\\Roaming\\Python\\Python39\\site-packages\\pandas\\io\\parsers\\c_parser_wrapper.py\u001b[0m in \u001b[0;36m__init__\u001b[1;34m(self, src, **kwds)\u001b[0m\n\u001b[0;32m     49\u001b[0m \u001b[1;33m\u001b[0m\u001b[0m\n\u001b[0;32m     50\u001b[0m         \u001b[1;31m# open handles\u001b[0m\u001b[1;33m\u001b[0m\u001b[1;33m\u001b[0m\u001b[0m\n\u001b[1;32m---> 51\u001b[1;33m         \u001b[0mself\u001b[0m\u001b[1;33m.\u001b[0m\u001b[0m_open_handles\u001b[0m\u001b[1;33m(\u001b[0m\u001b[0msrc\u001b[0m\u001b[1;33m,\u001b[0m \u001b[0mkwds\u001b[0m\u001b[1;33m)\u001b[0m\u001b[1;33m\u001b[0m\u001b[1;33m\u001b[0m\u001b[0m\n\u001b[0m\u001b[0;32m     52\u001b[0m         \u001b[1;32massert\u001b[0m \u001b[0mself\u001b[0m\u001b[1;33m.\u001b[0m\u001b[0mhandles\u001b[0m \u001b[1;32mis\u001b[0m \u001b[1;32mnot\u001b[0m \u001b[1;32mNone\u001b[0m\u001b[1;33m\u001b[0m\u001b[1;33m\u001b[0m\u001b[0m\n\u001b[0;32m     53\u001b[0m \u001b[1;33m\u001b[0m\u001b[0m\n",
      "\u001b[1;32m~\\AppData\\Roaming\\Python\\Python39\\site-packages\\pandas\\io\\parsers\\base_parser.py\u001b[0m in \u001b[0;36m_open_handles\u001b[1;34m(self, src, kwds)\u001b[0m\n\u001b[0;32m    220\u001b[0m         \u001b[0mLet\u001b[0m \u001b[0mthe\u001b[0m \u001b[0mreaders\u001b[0m \u001b[0mopen\u001b[0m \u001b[0mIOHandles\u001b[0m \u001b[0mafter\u001b[0m \u001b[0mthey\u001b[0m \u001b[0mare\u001b[0m \u001b[0mdone\u001b[0m \u001b[1;32mwith\u001b[0m \u001b[0mtheir\u001b[0m \u001b[0mpotential\u001b[0m \u001b[0mraises\u001b[0m\u001b[1;33m.\u001b[0m\u001b[1;33m\u001b[0m\u001b[1;33m\u001b[0m\u001b[0m\n\u001b[0;32m    221\u001b[0m         \"\"\"\n\u001b[1;32m--> 222\u001b[1;33m         self.handles = get_handle(\n\u001b[0m\u001b[0;32m    223\u001b[0m             \u001b[0msrc\u001b[0m\u001b[1;33m,\u001b[0m\u001b[1;33m\u001b[0m\u001b[1;33m\u001b[0m\u001b[0m\n\u001b[0;32m    224\u001b[0m             \u001b[1;34m\"r\"\u001b[0m\u001b[1;33m,\u001b[0m\u001b[1;33m\u001b[0m\u001b[1;33m\u001b[0m\u001b[0m\n",
      "\u001b[1;32m~\\AppData\\Roaming\\Python\\Python39\\site-packages\\pandas\\io\\common.py\u001b[0m in \u001b[0;36mget_handle\u001b[1;34m(path_or_buf, mode, encoding, compression, memory_map, is_text, errors, storage_options)\u001b[0m\n\u001b[0;32m    678\u001b[0m                     \u001b[1;32mraise\u001b[0m \u001b[0mValueError\u001b[0m\u001b[1;33m(\u001b[0m\u001b[1;34mf\"Zero files found in ZIP file {path_or_buf}\"\u001b[0m\u001b[1;33m)\u001b[0m\u001b[1;33m\u001b[0m\u001b[1;33m\u001b[0m\u001b[0m\n\u001b[0;32m    679\u001b[0m                 \u001b[1;32melse\u001b[0m\u001b[1;33m:\u001b[0m\u001b[1;33m\u001b[0m\u001b[1;33m\u001b[0m\u001b[0m\n\u001b[1;32m--> 680\u001b[1;33m                     raise ValueError(\n\u001b[0m\u001b[0;32m    681\u001b[0m                         \u001b[1;34m\"Multiple files found in ZIP file. \"\u001b[0m\u001b[1;33m\u001b[0m\u001b[1;33m\u001b[0m\u001b[0m\n\u001b[0;32m    682\u001b[0m                         \u001b[1;34mf\"Only one file per ZIP: {zip_names}\"\u001b[0m\u001b[1;33m\u001b[0m\u001b[1;33m\u001b[0m\u001b[0m\n",
      "\u001b[1;31mValueError\u001b[0m: Multiple files found in ZIP file. Only one file per ZIP: ['Crosswalks.zip', '__MACOSX/._Crosswalks.zip', 'data.yaml', 'FieldOfStudyData1415_1516_PP.csv', 'FieldOfStudyData1516_1617_PP.csv', 'FieldOfStudyData1617_1718_PP.csv', 'FieldOfStudyData1718_1819_PP.csv', 'MERGED1996_97_PP.csv', '__MACOSX/._MERGED1996_97_PP.csv', 'MERGED1997_98_PP.csv', '__MACOSX/._MERGED1997_98_PP.csv', 'MERGED1998_99_PP.csv', '__MACOSX/._MERGED1998_99_PP.csv', 'MERGED1999_00_PP.csv', '__MACOSX/._MERGED1999_00_PP.csv', 'MERGED2000_01_PP.csv', '__MACOSX/._MERGED2000_01_PP.csv', 'MERGED2001_02_PP.csv', '__MACOSX/._MERGED2001_02_PP.csv', 'MERGED2002_03_PP.csv', '__MACOSX/._MERGED2002_03_PP.csv', 'MERGED2003_04_PP.csv', '__MACOSX/._MERGED2003_04_PP.csv', 'MERGED2004_05_PP.csv', '__MACOSX/._MERGED2004_05_PP.csv', 'MERGED2005_06_PP.csv', '__MACOSX/._MERGED2005_06_PP.csv', 'MERGED2006_07_PP.csv', '__MACOSX/._MERGED2006_07_PP.csv', 'MERGED2007_08_PP.csv', '__MACOSX/._MERGED2007_08_PP.csv', 'MERGED2008_09_PP.csv', '__MACOSX/._MERGED2008_09_PP.csv', 'MERGED2009_10_PP.csv', '__MACOSX/._MERGED2009_10_PP.csv', 'MERGED2010_11_PP.csv', '__MACOSX/._MERGED2010_11_PP.csv', 'MERGED2011_12_PP.csv', '__MACOSX/._MERGED2011_12_PP.csv', 'MERGED2012_13_PP.csv', '__MACOSX/._MERGED2012_13_PP.csv', 'MERGED2013_14_PP.csv', '__MACOSX/._MERGED2013_14_PP.csv', 'MERGED2014_15_PP.csv', '__MACOSX/._MERGED2014_15_PP.csv', 'MERGED2015_16_PP.csv', '__MACOSX/._MERGED2015_16_PP.csv', 'MERGED2016_17_PP.csv', '__MACOSX/._MERGED2016_17_PP.csv', 'MERGED2017_18_PP.csv', '__MACOSX/._MERGED2017_18_PP.csv', 'MERGED2018_19_PP.csv', '__MACOSX/._MERGED2018_19_PP.csv', 'MERGED2019_20_PP.csv', '__MACOSX/._MERGED2019_20_PP.csv', 'Most-Recent-Cohorts-Field-of-Study.csv', 'Most-Recent-Cohorts-Institution.csv', '__MACOSX/._Most-Recent-Cohorts-Institution.csv']"
     ]
    }
   ],
   "source": [
    "df_college_scorecard_raw_data = pd.read_csv('CollegeScorecard_Raw_Data_03142022.zip')\n",
    "df_college_scorecard_raw_data.head(5)"
   ]
  },
  {
   "cell_type": "code",
   "execution_count": null,
   "id": "12a64ff0-910b-41f1-9e4e-47526901fc65",
   "metadata": {},
   "outputs": [],
   "source": []
  }
 ],
 "metadata": {
  "kernelspec": {
   "display_name": "Python 3 (ipykernel)",
   "language": "python",
   "name": "python3"
  },
  "language_info": {
   "codemirror_mode": {
    "name": "ipython",
    "version": 3
   },
   "file_extension": ".py",
   "mimetype": "text/x-python",
   "name": "python",
   "nbconvert_exporter": "python",
   "pygments_lexer": "ipython3",
   "version": "3.9.7"
  }
 },
 "nbformat": 4,
 "nbformat_minor": 5
}
