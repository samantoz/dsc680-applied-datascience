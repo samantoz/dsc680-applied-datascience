{
 "cells": [
  {
   "cell_type": "code",
   "execution_count": 1,
   "id": "96c2211e-d8fc-4467-9406-57edb8f088e3",
   "metadata": {},
   "outputs": [],
   "source": [
    "import pandas as pd"
   ]
  },
  {
   "cell_type": "code",
   "execution_count": 2,
   "id": "5406ad32-28dd-4d7f-9538-56b976d3692e",
   "metadata": {},
   "outputs": [],
   "source": [
    "excel_file_name='dataset/CollegeScorecardDataDictionary.xlsx'"
   ]
  },
  {
   "cell_type": "code",
   "execution_count": 5,
   "id": "378402ff-8938-4efa-97cb-7995d69b86ec",
   "metadata": {},
   "outputs": [],
   "source": [
    "# Read all sheets\n",
    "# This dataframe returns a dictionary of dataframes\n",
    "df_csc_data_dict = pd.read_excel(excel_file_name, sheet_name=None)"
   ]
  },
  {
   "cell_type": "code",
   "execution_count": 6,
   "id": "c9bb3036-fffa-4c3b-b903-0a8b2b5b1cf0",
   "metadata": {},
   "outputs": [
    {
     "data": {
      "text/plain": [
       "dict_keys(['README', 'ChangeLog', 'Glossary', 'Institution_Data_Dictionary', 'Institution_Cohort_Map', 'Most_Recent_Inst_Cohort_Map', 'FieldOfStudy_Data_Dictionary', 'FieldOfStudy_Cohort_Map'])"
      ]
     },
     "execution_count": 6,
     "metadata": {},
     "output_type": "execute_result"
    }
   ],
   "source": [
    "# The keys of the dictionary contain sheet names \n",
    "df_csc_data_dict.keys()"
   ]
  },
  {
   "cell_type": "code",
   "execution_count": 11,
   "id": "8a3446ba-721d-4938-ae21-cfa32d1f1985",
   "metadata": {},
   "outputs": [
    {
     "data": {
      "text/plain": [
       "(3251, 11)"
      ]
     },
     "execution_count": 11,
     "metadata": {},
     "output_type": "execute_result"
    }
   ],
   "source": [
    "# The values of the dataframe contain sheet contents.\n",
    "# Institution Data Dictionary\n",
    "df_csc_data_dict['Institution_Data_Dictionary'].shape"
   ]
  },
  {
   "cell_type": "code",
   "execution_count": 12,
   "id": "fe4a813a-d927-4ffb-ba5d-095cbdcccbb7",
   "metadata": {},
   "outputs": [],
   "source": [
    "# Generating the csv file with the datadi\n",
    "df_data_dict_inst = df_csc_data_dict['Institution_Data_Dictionary']\n",
    "df_data_dict_inst.to_csv('institution_data_dictionary.csv', index = False)"
   ]
  },
  {
   "cell_type": "code",
   "execution_count": 13,
   "id": "81805c4f-b3ad-46ca-a5e5-6fc692bcb3d6",
   "metadata": {},
   "outputs": [
    {
     "data": {
      "text/plain": [
       "(132, 10)"
      ]
     },
     "execution_count": 13,
     "metadata": {},
     "output_type": "execute_result"
    }
   ],
   "source": [
    "# The values of the dataframe contain sheet contents.\n",
    "# FieldOfStudy Data Dictionary\n",
    "df_csc_data_dict['FieldOfStudy_Data_Dictionary'].shape"
   ]
  },
  {
   "cell_type": "code",
   "execution_count": 14,
   "id": "36d2f802-f0a4-41a5-9dd3-0268448ebb03",
   "metadata": {},
   "outputs": [],
   "source": [
    "df_data_dict_fos = df_csc_data_dict['FieldOfStudy_Data_Dictionary']\n",
    "df_data_dict_fos.to_csv('fieldofstudy_data_dictionary.csv', index = False)"
   ]
  },
  {
   "cell_type": "code",
   "execution_count": null,
   "id": "59bad29b-6742-4d8b-89cd-fd33c8232c2a",
   "metadata": {},
   "outputs": [],
   "source": []
  }
 ],
 "metadata": {
  "kernelspec": {
   "display_name": "Python 3 (ipykernel)",
   "language": "python",
   "name": "python3"
  },
  "language_info": {
   "codemirror_mode": {
    "name": "ipython",
    "version": 3
   },
   "file_extension": ".py",
   "mimetype": "text/x-python",
   "name": "python",
   "nbconvert_exporter": "python",
   "pygments_lexer": "ipython3",
   "version": "3.9.7"
  }
 },
 "nbformat": 4,
 "nbformat_minor": 5
}
