{
 "cells": [
  {
   "cell_type": "code",
   "execution_count": 4,
   "id": "6e7bdf42-da23-43fa-abb8-e5b963c367c4",
   "metadata": {},
   "outputs": [],
   "source": [
    "from pyspark.sql import SparkSession\n",
    "from pyspark.sql.types import *"
   ]
  },
  {
   "cell_type": "code",
   "execution_count": 3,
   "id": "039edeaa-fd74-4a10-96be-0b46edacbbe7",
   "metadata": {},
   "outputs": [],
   "source": [
    "spark = SparkSession\\\n",
    "    .builder\\\n",
    "    .appName(\"InstitutionDataDictionary\")\\\n",
    "    .getOrCreate()"
   ]
  },
  {
   "cell_type": "code",
   "execution_count": 16,
   "id": "9c377e12-b1e1-487c-a6dc-29c3aab798a8",
   "metadata": {},
   "outputs": [
    {
     "data": {
      "text/plain": [
       "StructType(List(StructField(NAME,StringType,true),StructField(DEV_CATG,StringType,true),StructField(DEV_NAME,StringType,true),StructField(API_DATATYP,StringType,true),StructField(INDEX,StringType,true),StructField(VAR_NAME,StringType,true),StructField(VALUE,StringType,true),StructField(LABEL,StringType,true),StructField(SOURCE,StringType,true),StructField(SHOWN_USE,StringType,true),StructField(NOTES,StringType,true)))"
      ]
     },
     "execution_count": 16,
     "metadata": {},
     "output_type": "execute_result"
    }
   ],
   "source": [
    "COL_1 = StructField(\"NAME\",StringType(), True)\n",
    "COL_2 = StructField(\"DEV_CATG\",StringType(), True)\n",
    "COL_3 = StructField(\"DEV_NAME\",StringType(), True)\n",
    "COL_4 = StructField(\"API_DATATYP\",StringType(), True)\n",
    "COL_5 = StructField(\"INDEX\",StringType(), True)\n",
    "COL_6 = StructField(\"VAR_NAME\",StringType(), True)\n",
    "COL_7 = StructField(\"VALUE\",StringType(), True)\n",
    "COL_8 = StructField(\"LABEL\",StringType(), True)\n",
    "COL_9 = StructField(\"SOURCE\",StringType(), True)\n",
    "COL_10 = StructField(\"SHOWN_USE\",StringType(), True)\n",
    "COL_11 = StructField(\"NOTES\",StringType(), True)\n",
    "\n",
    "columnList = [COL_1, COL_2,COL_3, COL_4,COL_5, COL_6,COL_7, COL_8,COL_9,COL_10,COL_11]\n",
    "InstDataDictSchema = StructType(columnList)\n",
    "InstDataDictSchema"
   ]
  },
  {
   "cell_type": "code",
   "execution_count": 17,
   "id": "3513e6fa-8380-4b4a-9fd4-823f924b4e58",
   "metadata": {},
   "outputs": [],
   "source": [
    "InstDataDictDf = spark.read.csv(\n",
    "\tpath='institution_data_dictionary.csv',\n",
    "\theader=True,\n",
    "\tmultiLine=True,\n",
    "\tquote = '\"',\n",
    "\tescape='\"',\n",
    "\tschema=InstDataDictSchema\n",
    ")"
   ]
  },
  {
   "cell_type": "code",
   "execution_count": 18,
   "id": "7ace4c3c-d0f7-4314-bb57-2b7e502a7c70",
   "metadata": {},
   "outputs": [
    {
     "name": "stdout",
     "output_type": "stream",
     "text": [
      "+--------------------+--------+--------+------------+------------+--------+-----+-----+------+---------+-----+\n",
      "|                NAME|DEV_CATG|DEV_NAME| API_DATATYP|       INDEX|VAR_NAME|VALUE|LABEL|SOURCE|SHOWN_USE|NOTES|\n",
      "+--------------------+--------+--------+------------+------------+--------+-----+-----+------+---------+-----+\n",
      "|Unit ID for insti...|    root|      id|     integer|        null|  UNITID| null| null| IPEDS|      Yes| null|\n",
      "|8-digit OPE ID fo...|    root| ope8_id|      string| varchar(10)|   OPEID| null| null| IPEDS|      Yes| null|\n",
      "|6-digit OPE ID fo...|    root| ope6_id|      string| varchar(10)|  OPEID6| null| null| IPEDS|      Yes| null|\n",
      "|    Institution name|  school|    name|autocomplete|    fulltext|  INSTNM| null| null| IPEDS|      Yes| null|\n",
      "|                City|  school|    city|autocomplete|varchar(200)|    CITY| null| null| IPEDS|      Yes| null|\n",
      "+--------------------+--------+--------+------------+------------+--------+-----+-----+------+---------+-----+\n",
      "only showing top 5 rows\n",
      "\n",
      "root\n",
      " |-- NAME: string (nullable = true)\n",
      " |-- DEV_CATG: string (nullable = true)\n",
      " |-- DEV_NAME: string (nullable = true)\n",
      " |-- API_DATATYP: string (nullable = true)\n",
      " |-- INDEX: string (nullable = true)\n",
      " |-- VAR_NAME: string (nullable = true)\n",
      " |-- VALUE: string (nullable = true)\n",
      " |-- LABEL: string (nullable = true)\n",
      " |-- SOURCE: string (nullable = true)\n",
      " |-- SHOWN_USE: string (nullable = true)\n",
      " |-- NOTES: string (nullable = true)\n",
      "\n"
     ]
    }
   ],
   "source": [
    "InstDataDictDf.show(5, truncate=True)\n",
    "InstDataDictDf.printSchema()"
   ]
  },
  {
   "cell_type": "code",
   "execution_count": 19,
   "id": "1c335859-ca52-4b23-a5de-ea0a8f6d9d29",
   "metadata": {},
   "outputs": [],
   "source": [
    "InstDataDictDf.createOrReplaceTempView(\"InstDataDictDf\")"
   ]
  },
  {
   "cell_type": "code",
   "execution_count": 22,
   "id": "aa9f9cfa-1708-44a7-b379-181b6ab841d5",
   "metadata": {},
   "outputs": [
    {
     "name": "stdout",
     "output_type": "stream",
     "text": [
      "+----------------+--------+-----+-----+\n",
      "|            NAME|VAR_NAME|VALUE|LABEL|\n",
      "+----------------+--------+-----+-----+\n",
      "|            City|    CITY| null| null|\n",
      "|Institution name|  INSTNM| null| null|\n",
      "+----------------+--------+-----+-----+\n",
      "\n"
     ]
    }
   ],
   "source": [
    "spark.sql(\"select NAME,VAR_NAME\\\n",
    "          from InstDataDictDf \\\n",
    "          where VAR_NAME in ('UNITID','INSTNM','CITY','STABBR','ZIP',) \\\n",
    "\t\t\t  order by name\").show()"
   ]
  },
  {
   "cell_type": "code",
   "execution_count": 23,
   "id": "c1706098-ef80-40cd-9d4b-f97e256715c8",
   "metadata": {},
   "outputs": [
    {
     "name": "stdout",
     "output_type": "stream",
     "text": [
      "+--------------------+--------+-----+--------------+\n",
      "|                NAME|VAR_NAME|VALUE|         LABEL|\n",
      "+--------------------+--------+-----+--------------+\n",
      "|Predominant under...| PREDDEG|    0|Not classified|\n",
      "+--------------------+--------+-----+--------------+\n",
      "\n"
     ]
    }
   ],
   "source": [
    "spark.sql(\"select NAME,VAR_NAME,VALUE,LABEL\\\n",
    "          from InstDataDictDf \\\n",
    "          where VAR_NAME in ('PREDDEG') \\\n",
    "\t\t\t  order by name\").show()"
   ]
  },
  {
   "cell_type": "code",
   "execution_count": 24,
   "id": "301fa05c-76c8-4b68-be27-856de289ae52",
   "metadata": {},
   "outputs": [],
   "source": [
    "spark = SparkSession\\\n",
    "    .builder\\\n",
    "    .appName(\"InstitutionCohorts\")\\\n",
    "    .getOrCreate()"
   ]
  },
  {
   "cell_type": "code",
   "execution_count": 25,
   "id": "6a09e686-daed-4433-aa71-53de5955f239",
   "metadata": {},
   "outputs": [],
   "source": [
    "InstCohortsDf = spark.read.csv(\n",
    "\tpath='dataset/Most-Recent-Cohorts-Institution_03142022/Most-Recent-Cohorts-Institution.csv',\n",
    "\theader=True,\n",
    "\tmultiLine=True,\n",
    "\tquote = '\"',\n",
    "\tescape='\"'\n",
    ")"
   ]
  },
  {
   "cell_type": "code",
   "execution_count": 27,
   "id": "78457c3f-edc9-4c28-838c-b657eacf5eda",
   "metadata": {},
   "outputs": [],
   "source": [
    "InstCohortsDf.createOrReplaceTempView(\"InstCohortsDf\")"
   ]
  },
  {
   "cell_type": "code",
   "execution_count": 49,
   "id": "bd211855-ad4e-45f0-a8f2-4656be57bbb6",
   "metadata": {},
   "outputs": [
    {
     "name": "stdout",
     "output_type": "stream",
     "text": [
      "+-----------------------------------+-------+\n",
      "|INSTNM                             |PREDDEG|\n",
      "+-----------------------------------+-------+\n",
      "|Alabama A & M University           |3      |\n",
      "|University of Alabama at Birmingham|3      |\n",
      "|University of Alabama in Huntsville|3      |\n",
      "|Alabama State University           |3      |\n",
      "|The University of Alabama          |3      |\n",
      "|Athens State University            |3      |\n",
      "|Auburn University at Montgomery    |3      |\n",
      "|Auburn University                  |3      |\n",
      "|Birmingham-Southern College        |3      |\n",
      "|South University-Montgomery        |3      |\n",
      "|Faulkner University                |3      |\n",
      "|Huntingdon College                 |3      |\n",
      "|Heritage Christian University      |3      |\n",
      "|Jacksonville State University      |3      |\n",
      "|Judson College                     |3      |\n",
      "|University of West Alabama         |3      |\n",
      "|Miles College                      |3      |\n",
      "|University of Mobile               |3      |\n",
      "|University of Montevallo           |3      |\n",
      "|University of North Alabama        |3      |\n",
      "+-----------------------------------+-------+\n",
      "only showing top 20 rows\n",
      "\n"
     ]
    }
   ],
   "source": [
    "spark.sql(\"select INSTNM, PREDDEG\\\n",
    "          from InstCohortsDf\\\n",
    "          where ICLEVEL = 1\\\n",
    "          and PREDDEG = 3\").show(truncate = False)"
   ]
  },
  {
   "cell_type": "code",
   "execution_count": 47,
   "id": "f704b206-4556-4e46-8b87-d95d62df0c61",
   "metadata": {},
   "outputs": [],
   "source": [
    "sparkDf = spark.sql(\"select INSTNM, PREDDEG\\\n",
    "          from InstCohortsDf\\\n",
    "          where ICLEVEL = 1\\\n",
    "          and PREDDEG = 3\")"
   ]
  },
  {
   "cell_type": "code",
   "execution_count": 42,
   "id": "ffb5d669-9d41-4977-963d-8b3404abfe4e",
   "metadata": {},
   "outputs": [
    {
     "data": {
      "text/plain": [
       "2041"
      ]
     },
     "execution_count": 42,
     "metadata": {},
     "output_type": "execute_result"
    }
   ],
   "source": [
    "spark.sql(\"select INSTNM, PREDDEG\\\n",
    "          from InstCohortsDf\\\n",
    "          where ICLEVEL = 1\\\n",
    "          and PREDDEG = 3\").count()"
   ]
  },
  {
   "cell_type": "code",
   "execution_count": 50,
   "id": "dea5c00c-27fd-4349-9495-74edbe99d8a6",
   "metadata": {},
   "outputs": [
    {
     "data": {
      "text/plain": [
       "(2041, 2)"
      ]
     },
     "execution_count": 50,
     "metadata": {},
     "output_type": "execute_result"
    }
   ],
   "source": [
    "# convert to pandas datafarme\n",
    "pandasdf = sparkDf.toPandas()\n",
    "pandasdf.shape"
   ]
  },
  {
   "cell_type": "markdown",
   "id": "1c693e67-911b-4b95-a8cf-e194851718d5",
   "metadata": {},
   "source": [
    "### What schools are good Schools considering test scores, diversity and family income: \n",
    "The good schools which provide good return in terms of income.Good Schools considers high SAT scores. Salary of the students will be higher in the schools which has high SAT scores."
   ]
  },
  {
   "cell_type": "code",
   "execution_count": 62,
   "id": "612689c3-7a87-4572-9723-49e6358b9e37",
   "metadata": {},
   "outputs": [
    {
     "name": "stdout",
     "output_type": "stream",
     "text": [
      "+---------------------------------------------------------------------+-------------+------+-------+-------+-------+--------+\n",
      "|INSTNM                                                               |CITY         |STABBR|ST_FIPS|PREDDEG|CONTROL|ADM_RATE|\n",
      "+---------------------------------------------------------------------+-------------+------+-------+-------+-------+--------+\n",
      "|Saint Charles Borromeo Seminary-Overbrook                            |Wynnewood    |PA    |42     |3      |2      |1       |\n",
      "|DeVry University-Missouri                                            |Kansas City  |MO    |29     |3      |3      |1       |\n",
      "|Goddard College                                                      |Plainfield   |VT    |50     |3      |2      |1       |\n",
      "|Bellin College                                                       |Green Bay    |WI    |55     |3      |2      |1       |\n",
      "|Cleveland University-Kansas City                                     |Overland Park|KS    |20     |3      |2      |1       |\n",
      "|Universidad Central Del Caribe                                       |Bayamon      |PR    |72     |3      |2      |1       |\n",
      "|Hebrew Theological College                                           |Skokie       |IL    |17     |3      |2      |1       |\n",
      "|Family of Faith Christian University                                 |Shawnee      |OK    |40     |3      |2      |1       |\n",
      "|Grace Christian University                                           |Wyoming      |MI    |26     |3      |2      |1       |\n",
      "|Central Methodist University-College of Graduate and Extended Studies|Fayette      |MO    |29     |3      |2      |1       |\n",
      "|John F. Kennedy University                                           |Pleasant Hill|CA    |6      |3      |2      |1       |\n",
      "|Chamberlain University-Illinois                                      |Addison      |IL    |17     |3      |3      |1       |\n",
      "|Conception Seminary College                                          |Conception   |MO    |29     |3      |2      |1       |\n",
      "|Chamberlain University-Arizona                                       |Phoenix      |AZ    |4      |3      |3      |1       |\n",
      "|Stevens-The Institute of Business & Arts                             |Saint Louis  |MO    |29     |3      |3      |1       |\n",
      "|Chamberlain University-Florida                                       |Jacksonville |FL    |12     |3      |3      |1       |\n",
      "|New England College                                                  |Henniker     |NH    |33     |3      |2      |1       |\n",
      "|Chamberlain University-Virginia                                      |Vienna       |VA    |51     |3      |3      |1       |\n",
      "|Machzikei Hadath Rabbinical College                                  |Brooklyn     |NY    |36     |3      |2      |1       |\n",
      "|Whitworth University-Adult Degree Programs                           |Spokane      |WA    |53     |3      |2      |1       |\n",
      "+---------------------------------------------------------------------+-------------+------+-------+-------+-------+--------+\n",
      "only showing top 20 rows\n",
      "\n"
     ]
    }
   ],
   "source": [
    "spark.sql(\"select INSTNM,CITY,STABBR,ST_FIPS,PREDDEG,CONTROL,ADM_RATE \\\n",
    "          from InstCohortsDf\\\n",
    "          where ICLEVEL = 1\\\n",
    "          and PREDDEG = 3 \\\n",
    "          and ADM_RATE != 'NULL'\\\n",
    "         order by ADM_RATE DESC\").show(truncate = False)"
   ]
  }
 ],
 "metadata": {
  "kernelspec": {
   "display_name": "Python 3 (ipykernel)",
   "language": "python",
   "name": "python3"
  },
  "language_info": {
   "codemirror_mode": {
    "name": "ipython",
    "version": 3
   },
   "file_extension": ".py",
   "mimetype": "text/x-python",
   "name": "python",
   "nbconvert_exporter": "python",
   "pygments_lexer": "ipython3",
   "version": "3.9.7"
  }
 },
 "nbformat": 4,
 "nbformat_minor": 5
}
